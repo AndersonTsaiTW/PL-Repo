{
 "cells": [
  {
   "cell_type": "code",
   "execution_count": 22,
   "id": "021b59e7",
   "metadata": {},
   "outputs": [
    {
     "name": "stdout",
     "output_type": "stream",
     "text": [
      "給付本金： 11805 元\n",
      "給付利息： 353 元\n",
      "給付罰金： 300 元\n",
      "\n",
      "總償還金額： 12458 元\n"
     ]
    }
   ],
   "source": [
    "from datetime import date\n",
    "fund = 11805\n",
    "d_rate = 0.0005\n",
    "\n",
    "s_day = date(2006,1,19)\n",
    "e_day = date(2006,3,19)\n",
    "\n",
    "#print((e_day - s_day).days)\n",
    "d_days = (e_day - s_day).days\n",
    "f_int = round( fund * (1+d_rate)**int(d_days) - fund)\n",
    "\n",
    "#print(e_day.month - s_day.month)\n",
    "if e_day.day > s_day.day:\n",
    "    d_mons = e_day.month - s_day.month +1\n",
    "else:\n",
    "    d_mons = e_day.month - s_day.month\n",
    "\n",
    "#delay fee 是150/月，最大值900\n",
    "    f_fee = 150 * d_mons\n",
    "print('給付本金：',fund,'元\\n給付利息：', f_int,'元\\n給付罰金：', f_fee,'元\\n')\n",
    "print('總償還金額：',fund+f_int+f_fee,'元')\n"
   ]
  },
  {
   "cell_type": "code",
   "execution_count": 1,
   "id": "0c2bbb66",
   "metadata": {},
   "outputs": [
    {
     "name": "stdout",
     "output_type": "stream",
     "text": [
      "74 days\n"
     ]
    }
   ],
   "source": [
    "'''做為參考使用的時間差計算方式\n",
    "# Python3 program to find number of days\n",
    "# between two given dates\n",
    "from datetime import date\n",
    " \n",
    "def numOfDays(date1, date2):\n",
    "    return (date2-date1).days\n",
    "     \n",
    "# Driver program\n",
    "date1 = date(2018, 12, 13)\n",
    "date2 = date(2019, 2, 25)\n",
    "print(numOfDays(date1, date2), \"days\")\n",
    "'''"
   ]
  },
  {
   "cell_type": "code",
   "execution_count": 23,
   "id": "ea6d84c8",
   "metadata": {},
   "outputs": [
    {
     "name": "stdout",
     "output_type": "stream",
     "text": [
      "請輸入償還本金:1000000\n",
      "請輸入日利率：0.0005\n",
      "給付本金： 1000000 元\n",
      "給付利息： 29932 元\n",
      "給付罰金： 300 元\n",
      "\n",
      "總償還金額： 1030232 元\n"
     ]
    }
   ],
   "source": [
    "from datetime import date\n",
    "fund = int(input('請輸入償還本金:'))\n",
    "d_rate = float(input('請輸入日利率：'))\n",
    "\n",
    "s_day = date(2006,1,19)\n",
    "e_day = date(2006,3,19)\n",
    "\n",
    "#print((e_day - s_day).days)\n",
    "d_days = (e_day - s_day).days\n",
    "f_int = round( fund * (1+d_rate)**int(d_days) - fund)\n",
    "\n",
    "#print(e_day.month - s_day.month)\n",
    "if e_day.day > s_day.day:\n",
    "    d_mons = e_day.month - s_day.month +1\n",
    "else:\n",
    "    d_mons = e_day.month - s_day.month\n",
    "\n",
    "#delay fee 是150/月，最大值900\n",
    "    f_fee = 150 * d_mons\n",
    "print('給付本金：',fund,'元\\n給付利息：', f_int,'元\\n給付罰金：', f_fee,'元\\n')\n",
    "print('總償還金額：',fund+f_int+f_fee,'元')\n",
    "\n"
   ]
  }
 ],
 "metadata": {
  "kernelspec": {
   "display_name": "Python 3 (ipykernel)",
   "language": "python",
   "name": "python3"
  },
  "language_info": {
   "codemirror_mode": {
    "name": "ipython",
    "version": 3
   },
   "file_extension": ".py",
   "mimetype": "text/x-python",
   "name": "python",
   "nbconvert_exporter": "python",
   "pygments_lexer": "ipython3",
   "version": "3.9.7"
  }
 },
 "nbformat": 4,
 "nbformat_minor": 5
}
