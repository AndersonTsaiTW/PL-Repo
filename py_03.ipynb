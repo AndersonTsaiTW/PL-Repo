{
 "cells": [
  {
   "cell_type": "code",
   "execution_count": 7,
   "id": "b249654f",
   "metadata": {},
   "outputs": [
    {
     "name": "stdout",
     "output_type": "stream",
     "text": [
      "請輸入案件狀態原告被告皆闖紅燈\n",
      "原告50%被告50%\n"
     ]
    }
   ],
   "source": [
    "issue = input('請輸入案件狀態')\n",
    "if issue == '被告闖紅燈':\n",
    "    print('被告陪100%')\n",
    "elif issue == '原告闖紅燈':\n",
    "    print('原告多被告少')\n",
    "elif issue == '原告被告皆闖紅燈':\n",
    "    print('原告50%被告50%')\n",
    "else:\n",
    "    print('請輸入有效訊息')\n",
    "         \n",
    "    "
   ]
  },
  {
   "cell_type": "code",
   "execution_count": 11,
   "id": "21885bcb",
   "metadata": {},
   "outputs": [
    {
     "name": "stdout",
     "output_type": "stream",
     "text": [
      "請輸入案件狀態代碼：\n",
      "1. 被告闖紅燈\n",
      "2. 原告闖紅燈\n",
      "3. 原告被告皆闖紅燈\n",
      "3\n",
      "請輸入被告負擔比例0.5566\n",
      "原告: 44 %被告 56 %\n"
     ]
    }
   ],
   "source": [
    "#P是原告，D是被告\n",
    "#此版本允許使用者自行輸入賠償比例，並針對錯誤輸入偵測錯誤\n",
    "issue = input('''請輸入案件狀態代碼：\n",
    "1. 被告闖紅燈\n",
    "2. 原告闖紅燈\n",
    "3. 原告被告皆闖紅燈\\n''')\n",
    "if issue == '1':\n",
    "    print('被告賠100%')\n",
    "    P = 0\n",
    "    D = 1\n",
    "elif issue == '2':\n",
    "    print('原告賠100%')\n",
    "    P = 1\n",
    "    D = 0    \n",
    "elif issue == '3':\n",
    "    D = float(input('請輸入被告負擔比例'))\n",
    "    while D > 1 or D < 0:\n",
    "        D = float(input('請重新輸入被告負擔比例'))\n",
    "        continue\n",
    "    P = 1-D\n",
    "    print('原告:',round(P*100),'%被告',round(D*100),'%')    \n",
    "else:\n",
    "    print('請輸入有效訊息')"
   ]
  }
 ],
 "metadata": {
  "kernelspec": {
   "display_name": "Python 3 (ipykernel)",
   "language": "python",
   "name": "python3"
  },
  "language_info": {
   "codemirror_mode": {
    "name": "ipython",
    "version": 3
   },
   "file_extension": ".py",
   "mimetype": "text/x-python",
   "name": "python",
   "nbconvert_exporter": "python",
   "pygments_lexer": "ipython3",
   "version": "3.9.7"
  }
 },
 "nbformat": 4,
 "nbformat_minor": 5
}
