{
 "cells": [
  {
   "cell_type": "code",
   "execution_count": 6,
   "id": "b249654f",
   "metadata": {},
   "outputs": [
    {
     "name": "stdout",
     "output_type": "stream",
     "text": [
      "請輸入案件狀態代碼：\n",
      "              1. 被告闖紅燈\n",
      "              2. 原告闖紅燈\n",
      "              3. 原告被告皆闖紅燈3\n",
      "請輸入原告負擔比例0.3\n",
      "請輸入被告負擔比例0.7\n",
      "原告: 0.3 被告 0.7\n"
     ]
    }
   ],
   "source": [
    "#P是原告，D是被告\n",
    "issue = input('''請輸入案件狀態代碼：\n",
    "              1. 被告闖紅燈\n",
    "              2. 原告闖紅燈\n",
    "              3. 原告被告皆闖紅燈''')\n",
    "if issue == '1':\n",
    "    print('被告賠100%')\n",
    "    P = 0\n",
    "    D = 1\n",
    "elif issue == '2':\n",
    "    print('原告賠100%')\n",
    "    P = 1\n",
    "    D = 0    \n",
    "elif issue == '3':\n",
    "    P = input('請輸入原告負擔比例')\n",
    "    D = input('請輸入被告負擔比例')\n",
    "    print('原告:',P,'被告',D)    \n",
    "else:\n",
    "    print('請輸入有效訊息')\n",
    "         \n",
    "    "
   ]
  },
  {
   "cell_type": "code",
   "execution_count": null,
   "id": "21885bcb",
   "metadata": {},
   "outputs": [],
   "source": []
  }
 ],
 "metadata": {
  "kernelspec": {
   "display_name": "Python 3 (ipykernel)",
   "language": "python",
   "name": "python3"
  },
  "language_info": {
   "codemirror_mode": {
    "name": "ipython",
    "version": 3
   },
   "file_extension": ".py",
   "mimetype": "text/x-python",
   "name": "python",
   "nbconvert_exporter": "python",
   "pygments_lexer": "ipython3",
   "version": "3.9.7"
  }
 },
 "nbformat": 4,
 "nbformat_minor": 5
}
