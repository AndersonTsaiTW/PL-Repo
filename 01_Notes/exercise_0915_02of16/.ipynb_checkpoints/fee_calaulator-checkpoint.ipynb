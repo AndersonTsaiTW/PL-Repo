{
 "cells": [
  {
   "cell_type": "code",
   "execution_count": 1,
   "id": "ea6d84c8",
   "metadata": {},
   "outputs": [
    {
     "name": "stdout",
     "output_type": "stream",
     "text": [
      "請輸入償還本金:11805\n",
      "請輸入日利率：0.0005\n",
      "請輸入應還款日期(三位數民國年)\n",
      "(格式：YYYMMDD):0950119\n",
      "請輸入實際還款日期(三位數民國年)\n",
      "(格式：YYYMMDD):0950319\n",
      "給付本金： 11805 元\n",
      "給付利息： 353 元\n",
      "給付罰金： 300 元\n",
      "\n",
      "總償還金額： 12458 元\n"
     ]
    }
   ],
   "source": [
    "#允許使用者輸入償還本金、利率、應還款及實際還款日期的版本\n",
    "from datetime import date\n",
    "fund = int(input('請輸入償還本金:'))\n",
    "d_rate = float(input('請輸入日利率：'))\n",
    "\n",
    "while d_rate > 1 or d_rate < 0:\n",
    "    d_rate = float(input('請重新輸入日利率：',))\n",
    "    if d_rate < 1 and d_rate > 0:\n",
    "        break\n",
    "\n",
    "s_day_set = input('請輸入應還款日期(三位數民國年)\\n(格式：YYYMMDD):')\n",
    "e_day_set = input('請輸入實際還款日期(三位數民國年)\\n(格式：YYYMMDD):')\n",
    "\n",
    "s_day = date(int(s_day_set[0:3])+1911,int(s_day_set[3:5]),int(s_day_set[5:]))\n",
    "e_day = date(int(e_day_set[0:3])+1911,int(e_day_set[3:5]),int(e_day_set[5:]))\n",
    "\n",
    "d_days = (e_day - s_day).days\n",
    "f_int = round( fund * (1+d_rate)**int(d_days) - fund)\n",
    "\n",
    "if e_day.day > s_day.day:\n",
    "    d_mons = (e_day.year - s_day.year)*12 + (e_day.month - s_day.month) +1\n",
    "else:\n",
    "    d_mons = (e_day.year - s_day.year)*12 + (e_day.month - s_day.month)\n",
    "\n",
    "#delay fee 是150/月，最大值900\n",
    "f_fee = min( 150 * d_mons , 900)\n",
    "print('給付本金：',fund,'元\\n給付利息：', f_int,'元\\n給付罰金：', f_fee,'元\\n')\n",
    "print('總償還金額：',fund+f_int+f_fee,'元')"
   ]
  }
 ],
 "metadata": {
  "kernelspec": {
   "display_name": "Python 3 (ipykernel)",
   "language": "python",
   "name": "python3"
  },
  "language_info": {
   "codemirror_mode": {
    "name": "ipython",
    "version": 3
   },
   "file_extension": ".py",
   "mimetype": "text/x-python",
   "name": "python",
   "nbconvert_exporter": "python",
   "pygments_lexer": "ipython3",
   "version": "3.9.7"
  }
 },
 "nbformat": 4,
 "nbformat_minor": 5
}
