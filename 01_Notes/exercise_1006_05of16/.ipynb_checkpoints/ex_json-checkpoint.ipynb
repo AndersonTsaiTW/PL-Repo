{
 "cells": [
  {
   "cell_type": "code",
   "execution_count": 22,
   "id": "d4f9dee1",
   "metadata": {},
   "outputs": [
    {
     "name": "stdout",
     "output_type": "stream",
     "text": [
      "dict_keys(['jsonList'])\n"
     ]
    }
   ],
   "source": [
    "import json\n",
    "d = open('openDatasetJson.json')\n",
    "a = json.load(d)\n",
    "print(a.keys())"
   ]
  },
  {
   "cell_type": "code",
   "execution_count": null,
   "id": "80a9e7a7",
   "metadata": {},
   "outputs": [],
   "source": []
  }
 ],
 "metadata": {
  "kernelspec": {
   "display_name": "Python 3 (ipykernel)",
   "language": "python",
   "name": "python3"
  },
  "language_info": {
   "codemirror_mode": {
    "name": "ipython",
    "version": 3
   },
   "file_extension": ".py",
   "mimetype": "text/x-python",
   "name": "python",
   "nbconvert_exporter": "python",
   "pygments_lexer": "ipython3",
   "version": "3.9.7"
  }
 },
 "nbformat": 4,
 "nbformat_minor": 5
}
