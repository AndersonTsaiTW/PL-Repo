{
 "cells": [
  {
   "cell_type": "markdown",
   "id": "108c7f82",
   "metadata": {},
   "source": [
    "#全合併字典寫作練習，可想像為交通違規資料庫案件查詢功能\n",
    "\n",
    "已知有阿程、阿力、阿瑤三人，分別分別年齡為34、29、58，他們分別觸犯多條道路交通管理處罰條例。\n",
    "\n",
    "甲(阿程)：第16條 裝置高音量喇叭或其他產生噪音器物，被罰了1600元、 第17條 汽車不依限期參加定期檢驗或臨時檢驗，被罰了1500元、 第62條 汽車駕駛人駕駛汽車肇事，被罰了2500元、 第21條 未領有駕駛執照駕駛小型車或機車，被罰了10500元\n",
    "\n",
    "乙(阿力)：第12條 汽車使用吊銷、註銷之牌照，被罰了5000元\n",
    "\n",
    "丙(阿瑤)：第82條 未經許可在道路擺設攤位，被罰了2000元、 第56條 在禁止臨時停車處所停車，被罰了1000元\n",
    "\n",
    "請使用while迴圈讓使用者選擇： 1.查看阿程資料 2.查看阿力資料 3.查看阿瑤資料 4.犯罪數排名 5.累積罰金&罰鍰數排名 6.結束程式\n",
    "其餘(包含文字)顯示請重新輸入"
   ]
  },
  {
   "cell_type": "code",
   "execution_count": 67,
   "id": "f65c3f11",
   "metadata": {},
   "outputs": [
    {
     "name": "stdout",
     "output_type": "stream",
     "text": [
      "{'第12條': '汽車使用吊銷、註銷之牌照'}\n"
     ]
    }
   ],
   "source": [
    "#寫入dictionary資料階段\n",
    "people = {\n",
    "        \"阿程\":{\"age\":34,\n",
    "               \"crime\":{\"第16條\":\"裝置高音量喇叭或其他產生噪音器物\",\n",
    "                      \"第17條\":\"汽車不依限期參加定期檢驗或臨時檢驗\",\n",
    "                      \"第62條\":\"汽車駕駛人駕駛汽車肇事\",\n",
    "                      \"第21條\":\"未領有駕駛執照駕駛小型車或機車\"},\n",
    "               \"fee\":{\"第16條\":1600,\"第17條\":1500,\"第62條\":2500,\"第21條\":10500}},\n",
    "        \"阿力\":{\"age\":29,\n",
    "               \"crime\":{\"第12條\":\"汽車使用吊銷、註銷之牌照\"},\n",
    "               \"fee\":{\"第12條\":5000}},\n",
    "        \"阿瑤\":{\"age\":58,\n",
    "               \"crime\":{\"第82條\":\"未經許可在道路擺設攤位\",\n",
    "                      \"第56條\":\"在禁止臨時停車處所停車\"},\n",
    "               \"fee\":{\"第82條\":2000,\"第56條\":1000}}\n",
    "              }\n",
    "print(people[\"阿力\"][\"crime\"])"
   ]
  },
  {
   "cell_type": "code",
   "execution_count": 73,
   "id": "60ad50d4",
   "metadata": {},
   "outputs": [
    {
     "name": "stdout",
     "output_type": "stream",
     "text": [
      "阿程\n",
      "(4, 16100, [('第16條', '裝置高音量喇叭或其他產生噪音器物', 1600), ('第17條', '汽車不依限期參加定期檢驗或臨時檢驗', 1500), ('第62條', '汽車駕駛人駕駛汽車肇事', 2500), ('第21條', '未領有駕駛執照駕駛小型車或機車', 10500)])\n"
     ]
    }
   ],
   "source": [
    "#定義函數，以便讓未來以while迴圈控制時能較簡潔\n",
    "#個人交通裁處紀錄\n",
    "def record(name):\n",
    "    num_crime = len(people[name][\"crime\"])\n",
    "    total_fee = 0\n",
    "    crime_list = []\n",
    "    for i in people[name][\"crime\"]:\n",
    "        #print(i)\n",
    "        total_fee = total_fee + people[name][\"fee\"][i]\n",
    "        n = (i, people[name][\"crime\"][i],people[name][\"fee\"][i])\n",
    "        crime_list.append(n)\n",
    "    return num_crime, total_fee, crime_list\n",
    "\n",
    "print(record(input()))"
   ]
  },
  {
   "cell_type": "code",
   "execution_count": 195,
   "id": "8b01282f",
   "metadata": {},
   "outputs": [
    {
     "name": "stdout",
     "output_type": "stream",
     "text": [
      "\n",
      "請輸入以下項目編號，以進行查詢：\n",
      "1.查看阿程資料 2.查看阿力資料 3.查看阿瑤資料\n",
      "4.犯罪數排名 5.累積罰金&罰鍰數排名 6.結束程式\n",
      "1\n",
      "姓名： 阿程 今年 34 歲\n",
      "共違反 4 次交通規則，總罰金 16100 元，明細如下：\n",
      "('第16條', '裝置高音量喇叭或其他產生噪音器物', 1600)\n",
      "('第17條', '汽車不依限期參加定期檢驗或臨時檢驗', 1500)\n",
      "('第62條', '汽車駕駛人駕駛汽車肇事', 2500)\n",
      "('第21條', '未領有駕駛執照駕駛小型車或機車', 10500)\n",
      "\n",
      "請輸入以下項目編號，以進行查詢：\n",
      "1.查看阿程資料 2.查看阿力資料 3.查看阿瑤資料\n",
      "4.犯罪數排名 5.累積罰金&罰鍰數排名 6.結束程式\n",
      "2\n",
      "姓名： 阿力 今年 29 歲\n",
      "共違反 1 次交通規則，總罰金 5000 元，明細如下：\n",
      "('第12條', '汽車使用吊銷、註銷之牌照', 5000)\n",
      "\n",
      "請輸入以下項目編號，以進行查詢：\n",
      "1.查看阿程資料 2.查看阿力資料 3.查看阿瑤資料\n",
      "4.犯罪數排名 5.累積罰金&罰鍰數排名 6.結束程式\n",
      "3\n",
      "姓名： 阿瑤 今年 58 歲\n",
      "共違反 2 次交通規則，總罰金 3000 元，明細如下：\n",
      "('第82條', '未經許可在道路擺設攤位', 2000)\n",
      "('第56條', '在禁止臨時停車處所停車', 1000)\n",
      "\n",
      "請輸入以下項目編號，以進行查詢：\n",
      "1.查看阿程資料 2.查看阿力資料 3.查看阿瑤資料\n",
      "4.犯罪數排名 5.累積罰金&罰鍰數排名 6.結束程式\n",
      "4\n",
      "依違規次數由少到多：\n",
      "阿力 1 次違規\n",
      "阿瑤 2 次違規\n",
      "阿程 4 次違規\n",
      "\n",
      "請輸入以下項目編號，以進行查詢：\n",
      "1.查看阿程資料 2.查看阿力資料 3.查看阿瑤資料\n",
      "4.犯罪數排名 5.累積罰金&罰鍰數排名 6.結束程式\n",
      "5\n",
      "依累積罰金由少到多：\n",
      "阿瑤 3000 元罰金\n",
      "阿力 5000 元罰金\n",
      "阿程 16100 元罰金\n",
      "\n",
      "請輸入以下項目編號，以進行查詢：\n",
      "1.查看阿程資料 2.查看阿力資料 3.查看阿瑤資料\n",
      "4.犯罪數排名 5.累積罰金&罰鍰數排名 6.結束程式\n",
      "6\n",
      "使用完畢請關閉系統\n"
     ]
    }
   ],
   "source": [
    "#主要選單執行區\n",
    "name = [\"阿程\",\"阿力\",\"阿瑤\"] \n",
    "while True:\n",
    "    print()\n",
    "    a = input(\"請輸入以下項目編號，以進行查詢：\\n1.查看阿程資料 2.查看阿力資料 3.查看阿瑤資料\\n4.犯罪數排名 5.累積罰金&罰鍰數排名 6.結束程式\\n\")\n",
    "    if a == \"1\":\n",
    "        n = \"阿程\"\n",
    "        print(\"姓名：\",n,\"今年\",people[n][\"age\"],\"歲\")\n",
    "        print(\"共違反\",record(n)[0],\"次交通規則，總罰金\",record(n)[1],\"元，明細如下：\")\n",
    "        for i in range(0,record(n)[0]):\n",
    "            print(record(n)[2][i])\n",
    "    elif a == \"2\":\n",
    "        n = \"阿力\"\n",
    "        print(\"姓名：\",n,\"今年\",people[n][\"age\"],\"歲\")\n",
    "        print(\"共違反\",record(n)[0],\"次交通規則，總罰金\",record(n)[1],\"元，明細如下：\")\n",
    "        for i in range(0,record(n)[0]):\n",
    "            print(record(n)[2][i])\n",
    "    elif a == \"3\":\n",
    "        n = \"阿瑤\"\n",
    "        print(\"姓名：\",n,\"今年\",people[n][\"age\"],\"歲\")\n",
    "        print(\"共違反\",record(n)[0],\"次交通規則，總罰金\",record(n)[1],\"元，明細如下：\")\n",
    "        for i in range(0,record(n)[0]):\n",
    "            print(record(n)[2][i])\n",
    "    elif a == \"4\":\n",
    "        times = (record(\"阿程\")[0],record(\"阿力\")[0],record(\"阿瑤\")[0])\n",
    "        x1 = enumerate(times)\n",
    "        x2 = sorted(x1, key = lambda s: s[1])\n",
    "        print(\"依違規次數由少到多：\")\n",
    "        for i in range(3):\n",
    "            print(name[x2[i][0]],record(name[x2[i][0]])[0],\"次違規\")\n",
    "    elif a == \"5\":\n",
    "        fee_list = (record(\"阿程\")[1],record(\"阿力\")[1],record(\"阿瑤\")[1])\n",
    "        y1 = enumerate(fee_list)\n",
    "        y2 = sorted(y1, key = lambda z: z[1])\n",
    "        print(\"依累積罰金由少到多：\")\n",
    "        for i in range(3):\n",
    "            print(name[y2[i][0]],record(name[y2[i][0]])[1],\"元罰金\")\n",
    "    elif a == \"6\":\n",
    "        print(\"使用完畢請關閉系統\")\n",
    "        break\n",
    "    else:\n",
    "        print(\"請重新輸入\")\n",
    "        continue"
   ]
  },
  {
   "cell_type": "code",
   "execution_count": 165,
   "id": "8aeca58f",
   "metadata": {},
   "outputs": [
    {
     "name": "stdout",
     "output_type": "stream",
     "text": [
      "依違規次數由少到多：\n",
      "阿力 1 次違規\n",
      "阿瑤 2 次違規\n",
      "阿程 4 次違規\n"
     ]
    }
   ],
   "source": [
    "#違規次數排序研發區\n",
    "name = [\"阿程\",\"阿力\",\"阿瑤\"] \n",
    "times = (record(\"阿程\")[0],record(\"阿力\")[0],record(\"阿瑤\")[0])\n",
    "x1 = enumerate(times)\n",
    "x2 = sorted(x1, key = lambda s: s[1])\n",
    "print(\"依違規次數由少到多：\")\n",
    "for i in range(3):\n",
    "    print(name[x2[i][0]],record(name[x2[i][0]])[0],\"次違規\")"
   ]
  },
  {
   "cell_type": "code",
   "execution_count": 163,
   "id": "e8c8c91e",
   "metadata": {},
   "outputs": [
    {
     "name": "stdout",
     "output_type": "stream",
     "text": [
      "依累積罰金由少到多：\n",
      "阿瑤 3000 元罰金\n",
      "阿力 5000 元罰金\n",
      "阿程 16100 元罰金\n"
     ]
    }
   ],
   "source": [
    "#罰金排序研發區\n",
    "fee_list = (record(\"阿程\")[1],record(\"阿力\")[1],record(\"阿瑤\")[1])\n",
    "y1 = enumerate(fee_list)\n",
    "y2 = sorted(y1, key = lambda z: z[1])\n",
    "print(\"依累積罰金由少到多：\")\n",
    "for i in range(3):\n",
    "    print(name[y2[i][0]],record(name[y2[i][0]])[1],\"元罰金\")"
   ]
  }
 ],
 "metadata": {
  "kernelspec": {
   "display_name": "Python 3 (ipykernel)",
   "language": "python",
   "name": "python3"
  },
  "language_info": {
   "codemirror_mode": {
    "name": "ipython",
    "version": 3
   },
   "file_extension": ".py",
   "mimetype": "text/x-python",
   "name": "python",
   "nbconvert_exporter": "python",
   "pygments_lexer": "ipython3",
   "version": "3.9.7"
  }
 },
 "nbformat": 4,
 "nbformat_minor": 5
}
