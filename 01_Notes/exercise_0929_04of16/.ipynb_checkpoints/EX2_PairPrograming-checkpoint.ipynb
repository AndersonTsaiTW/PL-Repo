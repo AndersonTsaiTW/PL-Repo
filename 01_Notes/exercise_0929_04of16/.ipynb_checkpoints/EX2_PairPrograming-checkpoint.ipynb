{
 "cells": [
  {
   "cell_type": "markdown",
   "id": "108c7f82",
   "metadata": {},
   "source": [
    "#全合併字典寫作練習，可想像為交通違規資料庫案件查詢功能\n",
    "\n",
    "已知有阿程、阿力、阿瑤三人，分別分別年齡為34、29、58，他們分別觸犯多條道路交通管理處罰條例。\n",
    "\n",
    "甲(阿程)：第16條 裝置高音量喇叭或其他產生噪音器物，被罰了1600元、 第17條 汽車不依限期參加定期檢驗或臨時檢驗，被罰了1500元、 第62條 汽車駕駛人駕駛汽車肇事，被罰了2500元、 第21條 未領有駕駛執照駕駛小型車或機車，被罰了10500元\n",
    "\n",
    "乙(阿力)：第12條 汽車使用吊銷、註銷之牌照，被罰了5000元\n",
    "\n",
    "丙(阿瑤)：第82條 未經許可在道路擺設攤位，被罰了2000元、 第56條 在禁止臨時停車處所停車，被罰了1000元\n",
    "\n",
    "請使用while迴圈讓使用者選擇： 1.查看阿程資料 2.查看阿力資料 3.查看阿瑤資料 4.犯罪數排名 5.累積罰金&罰鍰數排名 6.結束程式\n",
    "其餘(包含文字)顯示請重新輸入"
   ]
  },
  {
   "cell_type": "code",
   "execution_count": 67,
   "id": "f65c3f11",
   "metadata": {},
   "outputs": [
    {
     "name": "stdout",
     "output_type": "stream",
     "text": [
      "{'第12條': '汽車使用吊銷、註銷之牌照'}\n"
     ]
    }
   ],
   "source": [
    "#寫入dictionary資料階段\n",
    "people = {\n",
    "        \"阿程\":{\"age\":34,\n",
    "               \"crime\":{\"第16條\":\"裝置高音量喇叭或其他產生噪音器物\",\n",
    "                      \"第17條\":\"汽車不依限期參加定期檢驗或臨時檢驗\",\n",
    "                      \"第62條\":\"汽車駕駛人駕駛汽車肇事\",\n",
    "                      \"第21條\":\"未領有駕駛執照駕駛小型車或機車\"},\n",
    "               \"fee\":{\"第16條\":1600,\"第17條\":1500,\"第62條\":2500,\"第21條\":10500}},\n",
    "        \"阿力\":{\"age\":29,\n",
    "               \"crime\":{\"第12條\":\"汽車使用吊銷、註銷之牌照\"},\n",
    "               \"fee\":{\"第12條\":5000}},\n",
    "        \"阿瑤\":{\"age\":58,\n",
    "               \"crime\":{\"第82條\":\"未經許可在道路擺設攤位\",\n",
    "                      \"第56條\":\"在禁止臨時停車處所停車\"},\n",
    "               \"fee\":{\"第82條\":2000,\"第56條\":1000}}\n",
    "              }\n",
    "print(people[\"阿力\"][\"crime\"])"
   ]
  },
  {
   "cell_type": "markdown",
   "id": "82ef4e67",
   "metadata": {},
   "source": [
    "使用while迴圈讓使用者選擇： 1.查看阿程資料 2.查看阿力資料 3.查看阿瑤資料 4.犯罪數排名 5.累積罰金&罰鍰數排名 6.結束程式\n",
    "其餘(包含文字)顯示請重新輸入"
   ]
  },
  {
   "cell_type": "code",
   "execution_count": 73,
   "id": "60ad50d4",
   "metadata": {},
   "outputs": [
    {
     "name": "stdout",
     "output_type": "stream",
     "text": [
      "阿程\n",
      "(4, 16100, [('第16條', '裝置高音量喇叭或其他產生噪音器物', 1600), ('第17條', '汽車不依限期參加定期檢驗或臨時檢驗', 1500), ('第62條', '汽車駕駛人駕駛汽車肇事', 2500), ('第21條', '未領有駕駛執照駕駛小型車或機車', 10500)])\n"
     ]
    }
   ],
   "source": [
    "#定義函數，以便讓未來以while迴圈控制時能較簡潔\n",
    "#個人交通裁處紀錄\n",
    "def record(name):\n",
    "    num_crime = len(people[name][\"crime\"])\n",
    "    total_fee = 0\n",
    "    crime_list = []\n",
    "    for i in people[name][\"crime\"]:\n",
    "        #print(i)\n",
    "        total_fee = total_fee + people[name][\"fee\"][i]\n",
    "        n = (i, people[name][\"crime\"][i],people[name][\"fee\"][i])\n",
    "        crime_list.append(n)\n",
    "    return num_crime, total_fee, crime_list\n",
    "\n",
    "print(record(input()))"
   ]
  },
  {
   "cell_type": "code",
   "execution_count": 138,
   "id": "8aeca58f",
   "metadata": {},
   "outputs": [
    {
     "name": "stdout",
     "output_type": "stream",
     "text": [
      "(4, 1, 2)\n"
     ]
    },
    {
     "ename": "TypeError",
     "evalue": "'tuple' object is not callable",
     "output_type": "error",
     "traceback": [
      "\u001b[0;31m---------------------------------------------------------------------------\u001b[0m",
      "\u001b[0;31mTypeError\u001b[0m                                 Traceback (most recent call last)",
      "\u001b[0;32m/var/folders/k_/2r9gfk5j0fbc0l7wptv_v2jc0000gn/T/ipykernel_52976/2823311690.py\u001b[0m in \u001b[0;36m<module>\u001b[0;34m\u001b[0m\n\u001b[1;32m      3\u001b[0m \u001b[0mprint\u001b[0m\u001b[0;34m(\u001b[0m\u001b[0mtimes\u001b[0m\u001b[0;34m)\u001b[0m\u001b[0;34m\u001b[0m\u001b[0;34m\u001b[0m\u001b[0m\n\u001b[1;32m      4\u001b[0m \u001b[0mx3\u001b[0m \u001b[0;34m=\u001b[0m \u001b[0menumerate\u001b[0m\u001b[0;34m(\u001b[0m\u001b[0mtimes\u001b[0m\u001b[0;34m,\u001b[0m \u001b[0mstart\u001b[0m \u001b[0;34m=\u001b[0m \u001b[0;36m1\u001b[0m\u001b[0;34m)\u001b[0m\u001b[0;34m\u001b[0m\u001b[0;34m\u001b[0m\u001b[0m\n\u001b[0;32m----> 5\u001b[0;31m \u001b[0mx2\u001b[0m \u001b[0;34m=\u001b[0m \u001b[0msorted\u001b[0m\u001b[0;34m(\u001b[0m\u001b[0mx3\u001b[0m\u001b[0;34m,\u001b[0m \u001b[0mkey\u001b[0m \u001b[0;34m=\u001b[0m \u001b[0;32mlambda\u001b[0m \u001b[0ms\u001b[0m\u001b[0;34m:\u001b[0m \u001b[0mtimes\u001b[0m\u001b[0;34m(\u001b[0m\u001b[0ms\u001b[0m\u001b[0;34m)\u001b[0m\u001b[0;34m)\u001b[0m\u001b[0;34m\u001b[0m\u001b[0;34m\u001b[0m\u001b[0m\n\u001b[0m\u001b[1;32m      6\u001b[0m \u001b[0mprint\u001b[0m\u001b[0;34m(\u001b[0m\u001b[0mx2\u001b[0m\u001b[0;34m)\u001b[0m\u001b[0;34m\u001b[0m\u001b[0;34m\u001b[0m\u001b[0m\n\u001b[1;32m      7\u001b[0m \u001b[0mprint\u001b[0m\u001b[0;34m(\u001b[0m\u001b[0;34m\"依違規次數由少到多：\"\u001b[0m\u001b[0;34m)\u001b[0m\u001b[0;34m\u001b[0m\u001b[0;34m\u001b[0m\u001b[0m\n",
      "\u001b[0;32m/var/folders/k_/2r9gfk5j0fbc0l7wptv_v2jc0000gn/T/ipykernel_52976/2823311690.py\u001b[0m in \u001b[0;36m<lambda>\u001b[0;34m(s)\u001b[0m\n\u001b[1;32m      3\u001b[0m \u001b[0mprint\u001b[0m\u001b[0;34m(\u001b[0m\u001b[0mtimes\u001b[0m\u001b[0;34m)\u001b[0m\u001b[0;34m\u001b[0m\u001b[0;34m\u001b[0m\u001b[0m\n\u001b[1;32m      4\u001b[0m \u001b[0mx3\u001b[0m \u001b[0;34m=\u001b[0m \u001b[0menumerate\u001b[0m\u001b[0;34m(\u001b[0m\u001b[0mtimes\u001b[0m\u001b[0;34m,\u001b[0m \u001b[0mstart\u001b[0m \u001b[0;34m=\u001b[0m \u001b[0;36m1\u001b[0m\u001b[0;34m)\u001b[0m\u001b[0;34m\u001b[0m\u001b[0;34m\u001b[0m\u001b[0m\n\u001b[0;32m----> 5\u001b[0;31m \u001b[0mx2\u001b[0m \u001b[0;34m=\u001b[0m \u001b[0msorted\u001b[0m\u001b[0;34m(\u001b[0m\u001b[0mx3\u001b[0m\u001b[0;34m,\u001b[0m \u001b[0mkey\u001b[0m \u001b[0;34m=\u001b[0m \u001b[0;32mlambda\u001b[0m \u001b[0ms\u001b[0m\u001b[0;34m:\u001b[0m \u001b[0mtimes\u001b[0m\u001b[0;34m(\u001b[0m\u001b[0ms\u001b[0m\u001b[0;34m)\u001b[0m\u001b[0;34m)\u001b[0m\u001b[0;34m\u001b[0m\u001b[0;34m\u001b[0m\u001b[0m\n\u001b[0m\u001b[1;32m      6\u001b[0m \u001b[0mprint\u001b[0m\u001b[0;34m(\u001b[0m\u001b[0mx2\u001b[0m\u001b[0;34m)\u001b[0m\u001b[0;34m\u001b[0m\u001b[0;34m\u001b[0m\u001b[0m\n\u001b[1;32m      7\u001b[0m \u001b[0mprint\u001b[0m\u001b[0;34m(\u001b[0m\u001b[0;34m\"依違規次數由少到多：\"\u001b[0m\u001b[0;34m)\u001b[0m\u001b[0;34m\u001b[0m\u001b[0;34m\u001b[0m\u001b[0m\n",
      "\u001b[0;31mTypeError\u001b[0m: 'tuple' object is not callable"
     ]
    }
   ],
   "source": [
    "times = (record(\"阿程\")[0],record(\"阿力\")[0],record(\"阿瑤\")[0])\n",
    "x1 = [\"阿程\",\"阿力\",\"阿瑤\"] \n",
    "x2 = sorted(x1, key = lambda s: times(s))\n",
    "print(\"依違規次數由少到多：\")\n",
    "for i in range(len(x2)):\n",
    "    print(x2[i],record(x2[i])[0],\"次違規\")\n",
    "    \n",
    "total_fee_list = (record(\"阿程\")[1],record(\"阿力\")[1],record(\"阿瑤\")[1])\n",
    "y1 = [\"阿程\",\"阿力\",\"阿瑤\"] \n",
    "print(len(total_fee_list))\n",
    "y2 = sorted(range(len(total_fee_list)), key = lambda z: total_fee_list[z])\n",
    "print(\"依累積罰金由少到多：\")\n",
    "for i in range(0,len(y2)):\n",
    "    print(i)\n",
    "    print(y2[i],record(y2[i])[1],\"元罰金\")\n"
   ]
  },
  {
   "cell_type": "code",
   "execution_count": 150,
   "id": "70b00599",
   "metadata": {},
   "outputs": [
    {
     "ename": "KeyError",
     "evalue": "1",
     "output_type": "error",
     "traceback": [
      "\u001b[0;31m---------------------------------------------------------------------------\u001b[0m",
      "\u001b[0;31mKeyError\u001b[0m                                  Traceback (most recent call last)",
      "\u001b[0;32m/var/folders/k_/2r9gfk5j0fbc0l7wptv_v2jc0000gn/T/ipykernel_52976/923999416.py\u001b[0m in \u001b[0;36m<module>\u001b[0;34m\u001b[0m\n\u001b[1;32m      5\u001b[0m \u001b[0;31m#print(\"依違規次數由少到多：\")\u001b[0m\u001b[0;34m\u001b[0m\u001b[0;34m\u001b[0m\u001b[0m\n\u001b[1;32m      6\u001b[0m \u001b[0;32mfor\u001b[0m \u001b[0mi\u001b[0m \u001b[0;32min\u001b[0m \u001b[0mrange\u001b[0m\u001b[0;34m(\u001b[0m\u001b[0;36m3\u001b[0m\u001b[0;34m)\u001b[0m\u001b[0;34m:\u001b[0m\u001b[0;34m\u001b[0m\u001b[0;34m\u001b[0m\u001b[0m\n\u001b[0;32m----> 7\u001b[0;31m     \u001b[0mprint\u001b[0m\u001b[0;34m(\u001b[0m\u001b[0mx1\u001b[0m\u001b[0;34m[\u001b[0m\u001b[0mi\u001b[0m\u001b[0;34m]\u001b[0m\u001b[0;34m,\u001b[0m\u001b[0mrecord\u001b[0m\u001b[0;34m(\u001b[0m\u001b[0mx2\u001b[0m\u001b[0;34m[\u001b[0m\u001b[0mi\u001b[0m\u001b[0;34m]\u001b[0m\u001b[0;34m)\u001b[0m\u001b[0;34m[\u001b[0m\u001b[0;36m0\u001b[0m\u001b[0;34m]\u001b[0m\u001b[0;34m,\u001b[0m\u001b[0;34m\"次違規\"\u001b[0m\u001b[0;34m)\u001b[0m\u001b[0;34m\u001b[0m\u001b[0;34m\u001b[0m\u001b[0m\n\u001b[0m",
      "\u001b[0;32m/var/folders/k_/2r9gfk5j0fbc0l7wptv_v2jc0000gn/T/ipykernel_52976/986824466.py\u001b[0m in \u001b[0;36mrecord\u001b[0;34m(name)\u001b[0m\n\u001b[1;32m      2\u001b[0m \u001b[0;31m#個人交通裁處紀錄\u001b[0m\u001b[0;34m\u001b[0m\u001b[0;34m\u001b[0m\u001b[0m\n\u001b[1;32m      3\u001b[0m \u001b[0;32mdef\u001b[0m \u001b[0mrecord\u001b[0m\u001b[0;34m(\u001b[0m\u001b[0mname\u001b[0m\u001b[0;34m)\u001b[0m\u001b[0;34m:\u001b[0m\u001b[0;34m\u001b[0m\u001b[0;34m\u001b[0m\u001b[0m\n\u001b[0;32m----> 4\u001b[0;31m     \u001b[0mnum_crime\u001b[0m \u001b[0;34m=\u001b[0m \u001b[0mlen\u001b[0m\u001b[0;34m(\u001b[0m\u001b[0mpeople\u001b[0m\u001b[0;34m[\u001b[0m\u001b[0mname\u001b[0m\u001b[0;34m]\u001b[0m\u001b[0;34m[\u001b[0m\u001b[0;34m\"crime\"\u001b[0m\u001b[0;34m]\u001b[0m\u001b[0;34m)\u001b[0m\u001b[0;34m\u001b[0m\u001b[0;34m\u001b[0m\u001b[0m\n\u001b[0m\u001b[1;32m      5\u001b[0m     \u001b[0mtotal_fee\u001b[0m \u001b[0;34m=\u001b[0m \u001b[0;36m0\u001b[0m\u001b[0;34m\u001b[0m\u001b[0;34m\u001b[0m\u001b[0m\n\u001b[1;32m      6\u001b[0m     \u001b[0mcrime_list\u001b[0m \u001b[0;34m=\u001b[0m \u001b[0;34m[\u001b[0m\u001b[0;34m]\u001b[0m\u001b[0;34m\u001b[0m\u001b[0;34m\u001b[0m\u001b[0m\n",
      "\u001b[0;31mKeyError\u001b[0m: 1"
     ]
    }
   ],
   "source": [
    "times = (record(\"阿程\")[0],record(\"阿力\")[0],record(\"阿瑤\")[0])\n",
    "x1 = [\"阿程\",\"阿力\",\"阿瑤\"] \n",
    "x2 = sorted(range(3), key = lambda s: times[s])\n",
    "\n",
    "#print(\"依違規次數由少到多：\")\n",
    "for i in range(3):\n",
    "    print(x1[i],record(x2[i])[0],\"次違規\")"
   ]
  },
  {
   "cell_type": "code",
   "execution_count": 129,
   "id": "60ba7c6e",
   "metadata": {},
   "outputs": [
    {
     "name": "stdout",
     "output_type": "stream",
     "text": [
      "5\n",
      "[2, 0, 1, 3, 4]\n"
     ]
    }
   ],
   "source": [
    "s = [2, 3, 1, 4, 9]\n",
    "print(len(s))\n",
    "sorted_s = sorted(range(len(s)), key = lambda k : s[k]) \n",
    "print(sorted_s) #output:[2, 0, 1, 3, 4]"
   ]
  }
 ],
 "metadata": {
  "kernelspec": {
   "display_name": "Python 3 (ipykernel)",
   "language": "python",
   "name": "python3"
  },
  "language_info": {
   "codemirror_mode": {
    "name": "ipython",
    "version": 3
   },
   "file_extension": ".py",
   "mimetype": "text/x-python",
   "name": "python",
   "nbconvert_exporter": "python",
   "pygments_lexer": "ipython3",
   "version": "3.9.7"
  }
 },
 "nbformat": 4,
 "nbformat_minor": 5
}
