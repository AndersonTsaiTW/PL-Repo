{
 "cells": [
  {
   "cell_type": "markdown",
   "id": "24e9a76a",
   "metadata": {},
   "source": [
    "#全合併字典寫作練習，可想像為交通違規資料庫案件查詢功能\n",
    "\n",
    "已知有阿程、阿力、阿瑤三人，分別分別年齡為34、29、58，他們分別觸犯多條道路交通管理處罰條例。\n",
    "\n",
    "甲(阿程)：第16條 裝置高音量喇叭或其他產生噪音器物，被罰了1600元、 第17條 汽車不依限期參加定期檢驗或臨時檢驗，被罰了1500元、 第62條 汽車駕駛人駕駛汽車肇事，被罰了2500元、 第21條 未領有駕駛執照駕駛小型車或機車，被罰了10500元\n",
    "\n",
    "乙(阿力)：第12條 汽車使用吊銷、註銷之牌照，被罰了5000元\n",
    "\n",
    "丙(阿瑤)：第82條 未經許可在道路擺設攤位，被罰了2000元、 第56條 在禁止臨時停車處所停車，被罰了1000元\n",
    "\n",
    "請使用while迴圈讓使用者選擇： 1.查看阿程資料 2.查看阿力資料 3.查看阿瑤資料 4.犯罪數排名 5.累積罰金&罰鍰數排名 6.結束程式\n",
    "其餘(包含文字)顯示請重新輸入"
   ]
  },
  {
   "cell_type": "code",
   "execution_count": 28,
   "id": "d6cbb228",
   "metadata": {},
   "outputs": [
    {
     "name": "stdout",
     "output_type": "stream",
     "text": [
      "{'第12條': '汽車使用吊銷、註銷之牌照'}\n"
     ]
    }
   ],
   "source": [
    "#寫入dictionary資料階段\n",
    "people = {\n",
    "        \"阿程\":{\"age\":34,\n",
    "               \"crime\":{\"第16條\":\"裝置高音量喇叭或其他產生噪音器物\",\n",
    "                      \"第17條\":\"汽車不依限期參加定期檢驗或臨時檢驗\",\n",
    "                      \"第62條\":\"汽車駕駛人駕駛汽車肇事\",\n",
    "                      \"第21條\":\"未領有駕駛執照駕駛小型車或機車\"},\n",
    "               \"fee\":{\"第16條\":1600,\"第17條\":1500,\"第62條\":2500,\"第21條\":10500}},\n",
    "        \"阿力\":{\"age\":29,\n",
    "               \"crime\":{\"第12條\":\"汽車使用吊銷、註銷之牌照\"},\n",
    "               \"fee\":{\"第12條\":5000}},\n",
    "        \"阿瑤\":{\"age\":58,\n",
    "               \"crime\":{\"第82條\":\"未經許可在道路擺設攤位\",\n",
    "                      \"第56條\":\"在禁止臨時停車處所停車\"},\n",
    "               \"fee\":{\"第82條\":2000,\"第56條\":1000}}\n",
    "              }\n",
    "print(people[\"阿力\"][\"crime\"])"
   ]
  },
  {
   "cell_type": "markdown",
   "id": "476924cb",
   "metadata": {},
   "source": [
    "使用while迴圈讓使用者選擇： 1.查看阿程資料 2.查看阿力資料 3.查看阿瑤資料 4.犯罪數排名 5.累積罰金&罰鍰數排名 6.結束程式\n",
    "其餘(包含文字)顯示請重新輸入"
   ]
  },
  {
   "cell_type": "code",
   "execution_count": 41,
   "id": "0adea5d7",
   "metadata": {},
   "outputs": [
    {
     "ename": "SyntaxError",
     "evalue": "unexpected EOF while parsing (1580440373.py, line 19)",
     "output_type": "error",
     "traceback": [
      "\u001b[0;36m  File \u001b[0;32m\"/var/folders/k_/2r9gfk5j0fbc0l7wptv_v2jc0000gn/T/ipykernel_48571/1580440373.py\"\u001b[0;36m, line \u001b[0;32m19\u001b[0m\n\u001b[0;31m    \u001b[0m\n\u001b[0m    ^\u001b[0m\n\u001b[0;31mSyntaxError\u001b[0m\u001b[0;31m:\u001b[0m unexpected EOF while parsing\n"
     ]
    }
   ],
   "source": [
    "#定義函數，以便讓未來以while迴圈控制時能較簡潔\n",
    "#個人交通裁處紀錄\n",
    "def record(name):\n",
    "    num_crime = len(people[name][\"crime\"])\n",
    "    total_fee = 0\n",
    "    crime_list = []\n",
    "    for i in people[name][\"crime\"]:\n",
    "        total_fee = total_fee + people[name][\"fee\"][i]\n",
    "        n = (i, people[name][\"crime\"][i],people[name][\"fee\"][i])\n",
    "        crime_list.append(n)\n",
    "    return num_crime, total_fee, crime_list\n",
    "\n",
    "#print(record(input()))\n",
    "\n",
    "print(x1 = enumerate(x, start = 1)\n",
    "    \n",
    "#    sorted(people,key = people[:][\"age\"]))\n",
    "    \n",
    "    "
   ]
  }
 ],
 "metadata": {
  "kernelspec": {
   "display_name": "Python 3 (ipykernel)",
   "language": "python",
   "name": "python3"
  },
  "language_info": {
   "codemirror_mode": {
    "name": "ipython",
    "version": 3
   },
   "file_extension": ".py",
   "mimetype": "text/x-python",
   "name": "python",
   "nbconvert_exporter": "python",
   "pygments_lexer": "ipython3",
   "version": "3.9.7"
  }
 },
 "nbformat": 4,
 "nbformat_minor": 5
}
