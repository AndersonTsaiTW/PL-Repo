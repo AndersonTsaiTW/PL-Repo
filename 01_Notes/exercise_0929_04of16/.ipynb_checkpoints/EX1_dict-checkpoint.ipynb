{
 "cells": [
  {
   "cell_type": "code",
   "execution_count": 3,
   "id": "ad7dca13",
   "metadata": {},
   "outputs": [
    {
     "name": "stdout",
     "output_type": "stream",
     "text": [
      "T-bone saute\n"
     ]
    }
   ],
   "source": [
    "#準備寫作隨機點菜機制，未完成\n",
    "import random\n",
    "\n",
    "meal = {\"beef\":[\"Chunk\",\"Rib\",\"Short Rib\",\"T-bone\"],\"seafood\":[\"crab\",\"lobster\",\"Tuna\",\"Salmon\"]}\n",
    "cook_type = [\"saute\",\"roast\",\"deep-fry\"]\n",
    "print(meal[\"beef\"][3],cook_type[0])"
   ]
  },
  {
   "cell_type": "code",
   "execution_count": 7,
   "id": "7b2f8375",
   "metadata": {},
   "outputs": [
    {
     "name": "stdout",
     "output_type": "stream",
     "text": [
      "['Rib', 'T-bone', 'soup', 'caffee', 'calorie:500', 200]\n"
     ]
    }
   ],
   "source": [
    "#套餐示例\n",
    "meal = {\"double\":[\"Rib\",\"T-bone\",\"soup\",\"caffee\",\"calorie:500\",200],\n",
    "        \"SurfandTurf\":[\"Short Rib\",\"lobster\",\"bread\",\"black tea\",\"calorie:400\",250],\n",
    "        \"light\":[\"lobster\",\"salad\",\"comfort tea\",\"calorie:200\",150]}\n",
    "print(meal[\"double\"])"
   ]
  },
  {
   "cell_type": "code",
   "execution_count": null,
   "id": "f958a5ef",
   "metadata": {},
   "outputs": [
    {
     "name": "stdout",
     "output_type": "stream",
     "text": [
      "請點餐：Rib\n",
      "請繼續點餐：taco\n",
      "請繼續點餐：that's all\n"
     ]
    }
   ],
   "source": [
    "#食物名：主菜/配菜，出餐時間（分），卡洛里，價格\n",
    "\n",
    "meal = {\"Rib\":[\"entree\",20,300,500],\n",
    "        \"T-bone\":[\"entree\",25,250,450],\n",
    "        \"lobster\":[\"entree\",15,150,450],\n",
    "        \"Salmon\":[\"entree\",15,200,350],\n",
    "        \"bread\":[\"side\",3,100,50],\n",
    "        \"salad\":[\"side\",3,50,50],\n",
    "        \"soup\":[\"side\",3,80,80],\n",
    "        \"black tea\":[\"side\",3,10,50],\n",
    "        \"comfort tea\":[\"side\",3,8,60]}\n",
    "order_list = [\"\"]\n",
    "order = list(input('請點餐：',))\n",
    "while order != [\"that's all\"] :\n",
    "    order_list = order_list + order\n",
    "    order = list(input('請繼續點餐：',))\n",
    "    if order == [\"that's all\"]:\n",
    "        break\n",
    "\n",
    "print(order_list)\n",
    "\n"
   ]
  },
  {
   "cell_type": "code",
   "execution_count": 20,
   "id": "029ccbc0",
   "metadata": {},
   "outputs": [
    {
     "ename": "TypeError",
     "evalue": "can only concatenate list (not \"str\") to list",
     "output_type": "error",
     "traceback": [
      "\u001b[0;31m---------------------------------------------------------------------------\u001b[0m",
      "\u001b[0;31mTypeError\u001b[0m                                 Traceback (most recent call last)",
      "\u001b[0;32m/var/folders/k_/2r9gfk5j0fbc0l7wptv_v2jc0000gn/T/ipykernel_47471/418332368.py\u001b[0m in \u001b[0;36m<module>\u001b[0;34m\u001b[0m\n\u001b[1;32m      1\u001b[0m \u001b[0ma\u001b[0m \u001b[0;34m=\u001b[0m \u001b[0;34m[\u001b[0m\u001b[0;34m]\u001b[0m\u001b[0;34m\u001b[0m\u001b[0;34m\u001b[0m\u001b[0m\n\u001b[1;32m      2\u001b[0m \u001b[0mb\u001b[0m \u001b[0;34m=\u001b[0m \u001b[0;34m\"2\"\u001b[0m\u001b[0;34m\u001b[0m\u001b[0;34m\u001b[0m\u001b[0m\n\u001b[0;32m----> 3\u001b[0;31m \u001b[0mprint\u001b[0m\u001b[0;34m(\u001b[0m\u001b[0ma\u001b[0m\u001b[0;34m+\u001b[0m\u001b[0mb\u001b[0m\u001b[0;34m)\u001b[0m\u001b[0;34m\u001b[0m\u001b[0;34m\u001b[0m\u001b[0m\n\u001b[0m\u001b[1;32m      4\u001b[0m \u001b[0ma\u001b[0m\u001b[0;34m=\u001b[0m\u001b[0ma\u001b[0m\u001b[0;34m+\u001b[0m\u001b[0mb\u001b[0m\u001b[0;34m\u001b[0m\u001b[0;34m\u001b[0m\u001b[0m\n\u001b[1;32m      5\u001b[0m \u001b[0mprint\u001b[0m\u001b[0;34m(\u001b[0m\u001b[0ma\u001b[0m\u001b[0;34m)\u001b[0m\u001b[0;34m\u001b[0m\u001b[0;34m\u001b[0m\u001b[0m\n",
      "\u001b[0;31mTypeError\u001b[0m: can only concatenate list (not \"str\") to list"
     ]
    }
   ],
   "source": [
    "a = []\n",
    "b = \"2\"\n",
    "print(a+b)\n",
    "a=a+b\n",
    "print(a)"
   ]
  }
 ],
 "metadata": {
  "kernelspec": {
   "display_name": "Python 3 (ipykernel)",
   "language": "python",
   "name": "python3"
  },
  "language_info": {
   "codemirror_mode": {
    "name": "ipython",
    "version": 3
   },
   "file_extension": ".py",
   "mimetype": "text/x-python",
   "name": "python",
   "nbconvert_exporter": "python",
   "pygments_lexer": "ipython3",
   "version": "3.9.7"
  }
 },
 "nbformat": 4,
 "nbformat_minor": 5
}
