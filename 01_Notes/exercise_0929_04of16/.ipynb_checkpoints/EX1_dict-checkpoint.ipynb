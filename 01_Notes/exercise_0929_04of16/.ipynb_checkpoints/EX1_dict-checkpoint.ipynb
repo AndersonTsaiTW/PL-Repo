{
 "cells": [
  {
   "cell_type": "code",
   "execution_count": 1,
   "id": "56d71034",
   "metadata": {},
   "outputs": [
    {
     "name": "stdout",
     "output_type": "stream",
     "text": [
      "T-bone\n"
     ]
    }
   ],
   "source": [
    "meal = {\"牛肉\":[\"Chunk\",\"Rib\",\"Short Rib\",\"T-bone\"],\"海鮮\":[\"螃蟹\",\"龍蝦\",\"章魚\"]}\n",
    "print(meal[\"牛肉\"][3])"
   ]
  }
 ],
 "metadata": {
  "kernelspec": {
   "display_name": "Python 3 (ipykernel)",
   "language": "python",
   "name": "python3"
  },
  "language_info": {
   "codemirror_mode": {
    "name": "ipython",
    "version": 3
   },
   "file_extension": ".py",
   "mimetype": "text/x-python",
   "name": "python",
   "nbconvert_exporter": "python",
   "pygments_lexer": "ipython3",
   "version": "3.9.7"
  }
 },
 "nbformat": 4,
 "nbformat_minor": 5
}
