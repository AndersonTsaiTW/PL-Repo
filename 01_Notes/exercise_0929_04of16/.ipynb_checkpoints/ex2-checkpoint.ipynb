{
 "cells": [
  {
   "cell_type": "markdown",
   "id": "a56b4b5c",
   "metadata": {},
   "source": [
    "已知有甲、乙、丙三人，分別分別年齡為40、52、63，他們分別觸犯多條道路交通管理處罰條例。\n",
    "\n",
    "甲：第62條 汽車駕駛人駕駛汽車肇事，被罰了2000元、 第12條 汽車使用吊銷、註銷之牌照，被罰了5000元\n",
    "\n",
    "乙：第16條 裝置高音量喇叭或其他產生噪音器物，被罰了1200元、 第56條 在禁止臨時停車處所停車，被罰了800元、 第82條 未經許可在道路擺設攤位，被罰了1500元、 第17條 汽車不依限期參加定期檢驗或臨時檢驗，被罰了900元\n",
    "\n",
    "丙：第21條 未領有駕駛執照駕駛小型車或機車，被罰了8000元\n",
    "\n",
    "請使用while迴圈讓使用者選擇： 1.查看甲資料 2.查看乙資料 3.查看丙資料 4.犯罪數排名 5.累積罰金&罰鍰數排名 6.結束程式\n",
    "\n",
    "其餘(包含文字)顯示請重新輸入"
   ]
  },
  {
   "cell_type": "code",
   "execution_count": 4,
   "id": "70974d92",
   "metadata": {},
   "outputs": [
    {
     "ename": "SyntaxError",
     "evalue": "invalid syntax (4058493588.py, line 1)",
     "output_type": "error",
     "traceback": [
      "\u001b[0;36m  File \u001b[0;32m\"/var/folders/k_/2r9gfk5j0fbc0l7wptv_v2jc0000gn/T/ipykernel_48571/4058493588.py\"\u001b[0;36m, line \u001b[0;32m1\u001b[0m\n\u001b[0;31m    law = {\"甲\":[\"第16條  汽車駕駛人駕駛汽車肇事\":2000,\"第12條 汽車使用吊銷、註銷之牌照\":5000]}\u001b[0m\n\u001b[0m                                   ^\u001b[0m\n\u001b[0;31mSyntaxError\u001b[0m\u001b[0;31m:\u001b[0m invalid syntax\n"
     ]
    }
   ],
   "source": [
    "law = {\"甲\":[\"第16條  汽車駕駛人駕駛汽車肇事\":2000,\"第12條 汽車使用吊銷、註銷之牌照\":5000]}"
   ]
  }
 ],
 "metadata": {
  "kernelspec": {
   "display_name": "Python 3 (ipykernel)",
   "language": "python",
   "name": "python3"
  },
  "language_info": {
   "codemirror_mode": {
    "name": "ipython",
    "version": 3
   },
   "file_extension": ".py",
   "mimetype": "text/x-python",
   "name": "python",
   "nbconvert_exporter": "python",
   "pygments_lexer": "ipython3",
   "version": "3.9.7"
  }
 },
 "nbformat": 4,
 "nbformat_minor": 5
}
