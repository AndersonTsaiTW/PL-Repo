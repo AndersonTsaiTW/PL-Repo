{
 "cells": [
  {
   "cell_type": "code",
   "execution_count": 54,
   "id": "8524f705",
   "metadata": {},
   "outputs": [
    {
     "name": "stdout",
     "output_type": "stream",
     "text": [
      "請點餐：Rib\n",
      "Rib\n",
      "['Rib']\n",
      "請繼續點餐：Taco\n",
      "Taco\n",
      "['Rib', 'Taco']\n",
      "請正確點餐：Salad\n",
      "Salad\n",
      "['Rib', 'Salad']\n",
      "請繼續點餐：Coffee\n",
      "Coffee\n",
      "['Rib', 'Salad', 'Coffee']\n",
      "請正確點餐：Gin Tonic\n",
      "Gin Tonic\n",
      "['Rib', 'Salad', 'Gin Tonic']\n",
      "請正確點餐：Soup\n",
      "Soup\n",
      "['Rib', 'Salad', 'Soup']\n",
      "請繼續點餐：Lobater\n",
      "Lobater\n",
      "['Rib', 'Salad', 'Soup', 'Lobater']\n",
      "請正確點餐：Lobater\n",
      "Lobater\n",
      "['Rib', 'Salad', 'Soup', 'Lobater']\n",
      "請正確點餐：Lobster\n",
      "Lobster\n",
      "['Rib', 'Salad', 'Soup', 'Lobster']\n",
      "請繼續點餐：done\n",
      "done\n",
      "['Rib', 'Salad', 'Soup', 'Lobster', 'done']\n",
      "Your Final Order is ['Rib', 'Salad', 'Soup', 'Lobster']\n"
     ]
    }
   ],
   "source": [
    "#食物名：主菜/配菜，出餐時間（分），卡洛里，價格\n",
    "\n",
    "meal = {\"Rib\":[\"entree\",20,300,500],\n",
    "        \"T-bone\":[\"entree\",25,250,450],\n",
    "        \"Lobster\":[\"entree\",15,150,450],\n",
    "        \"Salmon\":[\"entree\",15,200,350],\n",
    "        \"Bread\":[\"side\",3,100,50],\n",
    "        \"Salad\":[\"side\",3,50,50],\n",
    "        \"Soup\":[\"side\",3,80,80],\n",
    "        \"Black tea\":[\"side\",3,10,50],\n",
    "        \"Comfort tea\":[\"side\",3,8,60]}\n",
    "\n",
    "order = input('請點餐：',)\n",
    "order_list = [order]\n",
    "print(order)\n",
    "print(order_list)\n",
    "    \n",
    "while order != \"done\":\n",
    "    if order in meal:\n",
    "        order = input('請繼續點餐：',)\n",
    "        order_list.append(order)\n",
    "        print(order)\n",
    "        print(order_list)\n",
    "    else:\n",
    "        order_list.pop()\n",
    "        order = input('請正確點餐：',)\n",
    "        order_list.append(order)\n",
    "        print(order)\n",
    "        print(order_list)\n",
    "\n",
    "\n",
    "order_list.pop()\n",
    "print(\"Your Final Order is\",order_list)"
   ]
  },
  {
   "cell_type": "code",
   "execution_count": 63,
   "id": "27842630",
   "metadata": {},
   "outputs": [
    {
     "name": "stdout",
     "output_type": "stream",
     "text": [
      "You Have 2 entree(s)\n",
      "Your Longest Waiting Time: 20 minutes\n",
      "Total Calories: 580 Cals\n",
      "Total Price: 1800 Dollars\n",
      "Enjoy Your Meal!!!\n"
     ]
    }
   ],
   "source": [
    "#計算你餐點包含幾個主菜，最長等候時間，卡洛里，與總共多少錢\n",
    "\n",
    "entree = 0\n",
    "for l in order_list:\n",
    "    if meal[l][0] == \"entree\":\n",
    "        entree = entree + 1\n",
    "\n",
    "time = 0\n",
    "for i in order_list:\n",
    "    time = max(meal[i][1],time)\n",
    "\n",
    "calorie = 0\n",
    "for j in order_list:\n",
    "    calorie = calorie + meal[j][2]\n",
    "\n",
    "money = 0\n",
    "for k in order_list:\n",
    "    money = money + meal[j][3]\n",
    "\n",
    "print(\"You Have\",entree,\"entree(s)\")\n",
    "print(\"Your Longest Waiting Time:\",time,\"minutes\")\n",
    "print(\"Total Calories:\",calorie,\"Cals\")\n",
    "print(\"Total Price:\",money,\"Dollars\")\n",
    "print(\"Enjoy Your Meal!!!\")"
   ]
  }
 ],
 "metadata": {
  "kernelspec": {
   "display_name": "Python 3 (ipykernel)",
   "language": "python",
   "name": "python3"
  },
  "language_info": {
   "codemirror_mode": {
    "name": "ipython",
    "version": 3
   },
   "file_extension": ".py",
   "mimetype": "text/x-python",
   "name": "python",
   "nbconvert_exporter": "python",
   "pygments_lexer": "ipython3",
   "version": "3.9.7"
  }
 },
 "nbformat": 4,
 "nbformat_minor": 5
}
