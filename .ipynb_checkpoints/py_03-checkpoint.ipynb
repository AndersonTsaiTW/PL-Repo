{
 "cells": [
  {
   "cell_type": "code",
   "execution_count": 7,
   "id": "b249654f",
   "metadata": {},
   "outputs": [
    {
     "name": "stdout",
     "output_type": "stream",
     "text": [
      "請輸入案件狀態原告被告皆闖紅燈\n",
      "原告50%被告50%\n"
     ]
    }
   ],
   "source": [
    "issue = input('請輸入案件狀態')\n",
    "if issue == '被告闖紅燈':\n",
    "    print('被告陪100%')\n",
    "elif issue == '原告闖紅燈':\n",
    "    print('原告多被告少')\n",
    "elif issue == '原告被告皆闖紅燈':\n",
    "    print('原告50%被告50%')\n",
    "else:\n",
    "    print('請輸入有效訊息')\n",
    "         \n",
    "    "
   ]
  },
  {
   "cell_type": "code",
   "execution_count": null,
   "id": "21885bcb",
   "metadata": {},
   "outputs": [],
   "source": []
  }
 ],
 "metadata": {
  "kernelspec": {
   "display_name": "Python 3 (ipykernel)",
   "language": "python",
   "name": "python3"
  },
  "language_info": {
   "codemirror_mode": {
    "name": "ipython",
    "version": 3
   },
   "file_extension": ".py",
   "mimetype": "text/x-python",
   "name": "python",
   "nbconvert_exporter": "python",
   "pygments_lexer": "ipython3",
   "version": "3.9.7"
  }
 },
 "nbformat": 4,
 "nbformat_minor": 5
}
