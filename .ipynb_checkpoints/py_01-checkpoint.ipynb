{
 "cells": [
  {
   "cell_type": "code",
   "execution_count": 1,
   "id": "eae21985",
   "metadata": {},
   "outputs": [
    {
     "name": "stdout",
     "output_type": "stream",
     "text": [
      "hello world\n"
     ]
    }
   ],
   "source": [
    "str = 'hello world'\n",
    "print(str)"
   ]
  },
  {
   "cell_type": "code",
   "execution_count": 25,
   "id": "c72cf373",
   "metadata": {},
   "outputs": [
    {
     "name": "stdout",
     "output_type": "stream",
     "text": [
      "被告賠償金額：17981元\n",
      "原告賠償金額：7706元\n",
      "\n",
      "賠償金額加總：25687元\n",
      "總賠償金額：25688元\n",
      "政府虧了：1元\n"
     ]
    }
   ],
   "source": [
    "#P原告，D被告\n",
    "money = 25688\n",
    "d_ratio = 0.7\n",
    "d_part = int(money*d_ratio)\n",
    "p_part = int(money*(1-d_ratio))\n",
    "print('被告賠償金額：',d_part,'元\\n','原告賠償金額：',p_part,'元',sep='')\n",
    "print('\\n','賠償金額加總：',d_part+p_part,'元\\n','總賠償金額：',int(money),\n",
    "      '元\\n政府虧了：',int(money)-(d_part+p_part),'元',sep='')"
   ]
  },
  {
   "cell_type": "code",
   "execution_count": 39,
   "id": "46dabf90",
   "metadata": {},
   "outputs": [
    {
     "name": "stdout",
     "output_type": "stream",
     "text": [
      "請輸入賠償金額：1000000\n",
      "請輸入原告賠償比例：1.33333\n",
      "請重新輸入原告賠償比例：0.33333\n",
      "0.33333\n",
      "被告賠償金額：333330元\n",
      "原告賠償金額：666670元\n",
      "\n",
      "賠償金額加總：1000000元\n",
      "總賠償金額：1000000元\n",
      "政府虧了：0元\n"
     ]
    }
   ],
   "source": [
    "money = int(input('請輸入賠償金額：',))\n",
    "d_ratio = float(input('請輸入原告賠償比例：',))\n",
    "\n",
    "if d_ratio>1 or d_ratio<0:\n",
    "    d_ratio = float(input('請重新輸入原告賠償比例：',))\n",
    "else:\n",
    "    d_ratio = d_ratio\n",
    "\n",
    "print(d_ratio)\n",
    "\n",
    "d_part = round(money*d_ratio)\n",
    "p_part = round(money*(1-d_ratio))\n",
    "print('被告賠償金額：',d_part,'元\\n','原告賠償金額：',p_part,'元',sep='')\n",
    "print('\\n','賠償金額加總：',d_part+p_part,'元\\n','總賠償金額：',int(money),\n",
    "      '元\\n政府虧了：',int(money)-(d_part+p_part),'元',sep='')"
   ]
  },
  {
   "cell_type": "code",
   "execution_count": null,
   "id": "b3696086",
   "metadata": {},
   "outputs": [],
   "source": []
  }
 ],
 "metadata": {
  "kernelspec": {
   "display_name": "Python 3 (ipykernel)",
   "language": "python",
   "name": "python3"
  },
  "language_info": {
   "codemirror_mode": {
    "name": "ipython",
    "version": 3
   },
   "file_extension": ".py",
   "mimetype": "text/x-python",
   "name": "python",
   "nbconvert_exporter": "python",
   "pygments_lexer": "ipython3",
   "version": "3.9.7"
  }
 },
 "nbformat": 4,
 "nbformat_minor": 5
}
