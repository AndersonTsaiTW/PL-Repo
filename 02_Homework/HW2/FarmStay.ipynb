{
 "cells": [
  {
   "cell_type": "code",
   "execution_count": 11,
   "id": "ec9d22b1",
   "metadata": {},
   "outputs": [
    {
     "data": {
      "text/plain": [
       "dict_items([('ID', '01_10'), ('Name', '走馬瀨休閒農場'), ('Address', '台南市大內區二溪里唭子瓦 60 號'), ('Tel', '06-5760121~3'), ('HostWords', '走馬瀨農場以「草」起家，結合田媽媽轉型輔導，提供注重樂活的現代人「三低一高」的健康用餐地點。農場每天現採自己種植的油菜、蘿蔔、番茄等農物供應餐廳，讓客人每天吃到最新鮮的蔬菜。<br>\\r\\n牧草 DIY 活動以新鮮牧草為主角，自己動手作饅頭、麻糬，兩個小時內就可享用親手揉製的牧草食品，非常適合親子同樂。歡迎大家到「草香餐坊」享用牧草料理。'), ('Price', ''), ('OpenHours', '08:10~17:00 (假日)、09:10~17:00 (平日)'), ('CreditCard', 'True'), ('TravelCard', 'True'), ('TrafficGuidelines', ''), ('ParkingLot', ''), ('Url', 'http://www.farm.com.tw/'), ('Email', 'tainanfa@ms4.hinet.net'), ('BlogUrl', ''), ('PetNotice', ''), ('Reminder', ''), ('StayCapacity', ''), ('StayFeature', '走馬瀨農場以「草」起家，結合田媽媽轉型輔導，提供注重樂活的現代人「三低一高」的健康用餐地點。農場每天現採自己種植的油菜、蘿蔔、番茄等農物供應餐廳，讓客人每天吃到最新鮮的蔬菜。<br>\\r\\n牧草 DIY 活動以新鮮牧草為主角，自己動手作饅頭、麻糬，兩個小時內就可享用親手揉製的牧草食品，非常適合親子同樂。歡迎大家到「草香餐坊」享用牧草料理。'), ('City', '臺南市'), ('Town', '大內區'), ('Photo', 'https://ezgo.coa.gov.tw/Uploads/opendata/AgriStay01/APPLY_D/20151106173937.jpg'), ('Latitude', '23.122445'), ('Longitude', '120.4184781')])"
      ]
     },
     "execution_count": 11,
     "metadata": {},
     "output_type": "execute_result"
    }
   ],
   "source": [
    "import json\n",
    "test = open('FarmStay_list.json',encoding=\"UTF-8\")\n",
    "Data = json.load(test)\n",
    "test.close()\n",
    "type(Data[0])\n",
    "Data[0].items()"
   ]
  },
  {
   "cell_type": "code",
   "execution_count": 12,
   "id": "ab7f06a8",
   "metadata": {},
   "outputs": [
    {
     "data": {
      "text/plain": [
       "dict"
      ]
     },
     "execution_count": 12,
     "metadata": {},
     "output_type": "execute_result"
    }
   ],
   "source": [
    "data_dic = {\"site\":Data[0:3]}\n",
    "type(data_dic)"
   ]
  },
  {
   "cell_type": "code",
   "execution_count": 13,
   "id": "88d1ff71",
   "metadata": {},
   "outputs": [
    {
     "data": {
      "text/plain": [
       "{'site': [{'ID': '01_10',\n",
       "   'Name': '走馬瀨休閒農場',\n",
       "   'Address': '台南市大內區二溪里唭子瓦 60 號',\n",
       "   'Tel': '06-5760121~3',\n",
       "   'HostWords': '走馬瀨農場以「草」起家，結合田媽媽轉型輔導，提供注重樂活的現代人「三低一高」的健康用餐地點。農場每天現採自己種植的油菜、蘿蔔、番茄等農物供應餐廳，讓客人每天吃到最新鮮的蔬菜。<br>\\r\\n牧草 DIY 活動以新鮮牧草為主角，自己動手作饅頭、麻糬，兩個小時內就可享用親手揉製的牧草食品，非常適合親子同樂。歡迎大家到「草香餐坊」享用牧草料理。',\n",
       "   'Price': '',\n",
       "   'OpenHours': '08:10~17:00 (假日)、09:10~17:00 (平日)',\n",
       "   'CreditCard': 'True',\n",
       "   'TravelCard': 'True',\n",
       "   'TrafficGuidelines': '',\n",
       "   'ParkingLot': '',\n",
       "   'Url': 'http://www.farm.com.tw/',\n",
       "   'Email': 'tainanfa@ms4.hinet.net',\n",
       "   'BlogUrl': '',\n",
       "   'PetNotice': '',\n",
       "   'Reminder': '',\n",
       "   'StayCapacity': '',\n",
       "   'StayFeature': '走馬瀨農場以「草」起家，結合田媽媽轉型輔導，提供注重樂活的現代人「三低一高」的健康用餐地點。農場每天現採自己種植的油菜、蘿蔔、番茄等農物供應餐廳，讓客人每天吃到最新鮮的蔬菜。<br>\\r\\n牧草 DIY 活動以新鮮牧草為主角，自己動手作饅頭、麻糬，兩個小時內就可享用親手揉製的牧草食品，非常適合親子同樂。歡迎大家到「草香餐坊」享用牧草料理。',\n",
       "   'City': '臺南市',\n",
       "   'Town': '大內區',\n",
       "   'Photo': 'https://ezgo.coa.gov.tw/Uploads/opendata/AgriStay01/APPLY_D/20151106173937.jpg',\n",
       "   'Latitude': '23.122445',\n",
       "   'Longitude': '120.4184781'},\n",
       "  {'ID': '01_11',\n",
       "   'Name': '怡然居螢火蟲生態休閒農場',\n",
       "   'Address': '屏東縣新埤鄉新中路161號 ',\n",
       "   'Tel': '08-7973608(賴胤就)',\n",
       "   'HostWords': '螢火蟲是很嬌嫩的昆蟲，在園區不要捕捉它們。<br>\\r\\n怡然居是一個以復育螢火蟲為主體的花園，歡迎喜愛螢火蟲美妙螢光的親朋好友，能夠放下煩悶的工作到此一遊，認識螢火蟲的點點滴滴；夕陽西下時到園內品嚐精緻點心或輕食套餐，螢光點點作伴下更是樂趣無窮。',\n",
       "   'Price': '',\n",
       "   'OpenHours': '10:00~21:00 (夏季)、10:00~20:00 (冬季)，每週一公休 (除夕等特別節慶，請來電詢問營業時間)。',\n",
       "   'CreditCard': 'True',\n",
       "   'TravelCard': 'True',\n",
       "   'TrafficGuidelines': '',\n",
       "   'ParkingLot': '',\n",
       "   'Url': '',\n",
       "   'Email': '',\n",
       "   'BlogUrl': '',\n",
       "   'PetNotice': '',\n",
       "   'Reminder': '',\n",
       "   'StayCapacity': '',\n",
       "   'StayFeature': '螢火蟲是很嬌嫩的昆蟲，在園區不要捕捉它們。<br>\\r\\n怡然居是一個以復育螢火蟲為主體的花園，歡迎喜愛螢火蟲美妙螢光的親朋好友，能夠放下煩悶的工作到此一遊，認識螢火蟲的點點滴滴；夕陽西下時到園內品嚐精緻點心或輕食套餐，螢光點點作伴下更是樂趣無窮。',\n",
       "   'City': '屏東縣',\n",
       "   'Town': '新埤鄉',\n",
       "   'Photo': 'https://ezgo.coa.gov.tw/Uploads/opendata/AgriStay01/APPLY_D/20151106165520.jpg',\n",
       "   'Latitude': '22.4743333',\n",
       "   'Longitude': '120.5460051'},\n",
       "  {'ID': '01_12',\n",
       "   'Name': '東遊季休閒農場',\n",
       "   'Address': '台東縣卑南鄉溫泉村溫泉路376巷18號',\n",
       "   'Tel': '089-516111 #700、089-516111 #801(謝小姐、黃先生)',\n",
       "   'HostWords': '位於台東縣知本溫泉區的入口，占地近 15 公頃的東遊季溫泉渡假村，不僅擁有知本地區最大、最完整的溫泉 SPA 區，近年來更積極復育蝴蝶成為生態花園、種植台東特有的蕨類、營造甲蟲棲息地、開發槌球場等等，將養生休閒的觀念導入的經營理念。<br><br>\\r\\n\\r\\n目前東遊季農民會館共有 38 間、休閒屋 26 間、湯屋 22 間，約可容納 300 人左右，另外尚有會議室可提供遊客教育訓練使用。設備完善的溫泉區內除有泡湯池、戲水池、泳池、烤箱、蒸氣室、SPA 池、植物芬多精池、遠紅外線能量屋等現代化設備外，遊憩區內有寬大草坪、健康步道等，讓遊客可以無拘無束的徜徉在寧靜的山谷森林浴中。<br><br>\\r\\n\\r\\n全新裝潢、重新開幕的東遊季田媽媽養生餐廳，發展出一套樸實風味特色的田園料理，成為當地獨具一格的美食文化。在強調「低糖、低油、低鹽、高纖維、高鈣」的現代人保健養生飲食觀念下，今年特別推出「四季饗宴」為主題的地方特色料理，以台東本地的季節農產品入菜，並以保健植物為主題研發出具養生功能的各式夏季料理，菜色的設計主要以清爽、不油膩為重點，廣受老饕喜愛。',\n",
       "   'Price': '',\n",
       "   'OpenHours': '溫泉區：08:00~23:00。餐廳區：(早) 07:00~09:30、(中) 11:00~14:00、(晚) 17:00~20:00',\n",
       "   'CreditCard': 'True',\n",
       "   'TravelCard': 'True',\n",
       "   'TrafficGuidelines': '',\n",
       "   'ParkingLot': '',\n",
       "   'Url': 'http://www.toyugi.com.tw/',\n",
       "   'Email': 'tt.k0016@msa.hinet.net',\n",
       "   'BlogUrl': '',\n",
       "   'PetNotice': '',\n",
       "   'Reminder': '',\n",
       "   'StayCapacity': '',\n",
       "   'StayFeature': '位於台東縣知本溫泉區的入口，占地近 15 公頃的東遊季溫泉渡假村，不僅擁有知本地區最大、最完整的溫泉 SPA 區，近年來更積極復育蝴蝶成為生態花園、種植台東特有的蕨類、營造甲蟲棲息地、開發槌球場等等，將養生休閒的觀念導入的經營理念。<br><br>\\r\\n\\r\\n目前東遊季農民會館共有 38 間、休閒屋 26 間、湯屋 22 間，約可容納 300 人左右，另外尚有會議室可提供遊客教育訓練使用。設備完善的溫泉區內除有泡湯池、戲水池、泳池、烤箱、蒸氣室、SPA 池、植物芬多精池、遠紅外線能量屋等現代化設備外，遊憩區內有寬大草坪、健康步道等，讓遊客可以無拘無束的徜徉在寧靜的山谷森林浴中。<br><br>\\r\\n\\r\\n全新裝潢、重新開幕的東遊季田媽媽養生餐廳，發展出一套樸實風味特色的田園料理，成為當地獨具一格的美食文化。在強調「低糖、低油、低鹽、高纖維、高鈣」的現代人保健養生飲食觀念下，今年特別推出「四季饗宴」為主題的地方特色料理，以台東本地的季節農產品入菜，並以保健植物為主題研發出具養生功能的各式夏季料理，菜色的設計主要以清爽、不油膩為重點，廣受老饕喜愛。',\n",
       "   'City': '臺東縣',\n",
       "   'Town': '卑南鄉',\n",
       "   'Photo': 'https://ezgo.coa.gov.tw/Uploads/opendata/AgriStay01/APPLY_D/20151106174052.jpg',\n",
       "   'Latitude': '22.6966841',\n",
       "   'Longitude': '121.0204340'}]}"
      ]
     },
     "execution_count": 13,
     "metadata": {},
     "output_type": "execute_result"
    }
   ],
   "source": [
    "data_dic"
   ]
  },
  {
   "cell_type": "code",
   "execution_count": 14,
   "id": "61644716",
   "metadata": {},
   "outputs": [],
   "source": [
    "temp = data_dic.get('site')"
   ]
  },
  {
   "cell_type": "code",
   "execution_count": 20,
   "id": "0e5bf792",
   "metadata": {},
   "outputs": [],
   "source": [
    "temp[1]['Price'] = 3"
   ]
  },
  {
   "cell_type": "code",
   "execution_count": 21,
   "id": "c7829c9f",
   "metadata": {},
   "outputs": [
    {
     "data": {
      "text/plain": [
       "3"
      ]
     },
     "execution_count": 21,
     "metadata": {},
     "output_type": "execute_result"
    }
   ],
   "source": [
    "temp[1]['Price']"
   ]
  },
  {
   "cell_type": "code",
   "execution_count": 15,
   "id": "a8450f1e",
   "metadata": {},
   "outputs": [
    {
     "name": "stdout",
     "output_type": "stream",
     "text": [
      "{'ID': '01_10', 'Name': '走馬瀨休閒農場', 'Address': '台南市大內區二溪里唭子瓦 60 號', 'Tel': '06-5760121~3', 'HostWords': '走馬瀨農場以「草」起家，結合田媽媽轉型輔導，提供注重樂活的現代人「三低一高」的健康用餐地點。農場每天現採自己種植的油菜、蘿蔔、番茄等農物供應餐廳，讓客人每天吃到最新鮮的蔬菜。<br>\\r\\n牧草 DIY 活動以新鮮牧草為主角，自己動手作饅頭、麻糬，兩個小時內就可享用親手揉製的牧草食品，非常適合親子同樂。歡迎大家到「草香餐坊」享用牧草料理。', 'Price': '', 'OpenHours': '08:10~17:00 (假日)、09:10~17:00 (平日)', 'CreditCard': 'True', 'TravelCard': 'True', 'TrafficGuidelines': '', 'ParkingLot': '', 'Url': 'http://www.farm.com.tw/', 'Email': 'tainanfa@ms4.hinet.net', 'BlogUrl': '', 'PetNotice': '', 'Reminder': '', 'StayCapacity': '', 'StayFeature': '走馬瀨農場以「草」起家，結合田媽媽轉型輔導，提供注重樂活的現代人「三低一高」的健康用餐地點。農場每天現採自己種植的油菜、蘿蔔、番茄等農物供應餐廳，讓客人每天吃到最新鮮的蔬菜。<br>\\r\\n牧草 DIY 活動以新鮮牧草為主角，自己動手作饅頭、麻糬，兩個小時內就可享用親手揉製的牧草食品，非常適合親子同樂。歡迎大家到「草香餐坊」享用牧草料理。', 'City': '臺南市', 'Town': '大內區', 'Photo': 'https://ezgo.coa.gov.tw/Uploads/opendata/AgriStay01/APPLY_D/20151106173937.jpg', 'Latitude': '23.122445', 'Longitude': '120.4184781'}\n",
      "{'ID': '01_11', 'Name': '怡然居螢火蟲生態休閒農場', 'Address': '屏東縣新埤鄉新中路161號 ', 'Tel': '08-7973608(賴胤就)', 'HostWords': '螢火蟲是很嬌嫩的昆蟲，在園區不要捕捉它們。<br>\\r\\n怡然居是一個以復育螢火蟲為主體的花園，歡迎喜愛螢火蟲美妙螢光的親朋好友，能夠放下煩悶的工作到此一遊，認識螢火蟲的點點滴滴；夕陽西下時到園內品嚐精緻點心或輕食套餐，螢光點點作伴下更是樂趣無窮。', 'Price': '', 'OpenHours': '10:00~21:00 (夏季)、10:00~20:00 (冬季)，每週一公休 (除夕等特別節慶，請來電詢問營業時間)。', 'CreditCard': 'True', 'TravelCard': 'True', 'TrafficGuidelines': '', 'ParkingLot': '', 'Url': '', 'Email': '', 'BlogUrl': '', 'PetNotice': '', 'Reminder': '', 'StayCapacity': '', 'StayFeature': '螢火蟲是很嬌嫩的昆蟲，在園區不要捕捉它們。<br>\\r\\n怡然居是一個以復育螢火蟲為主體的花園，歡迎喜愛螢火蟲美妙螢光的親朋好友，能夠放下煩悶的工作到此一遊，認識螢火蟲的點點滴滴；夕陽西下時到園內品嚐精緻點心或輕食套餐，螢光點點作伴下更是樂趣無窮。', 'City': '屏東縣', 'Town': '新埤鄉', 'Photo': 'https://ezgo.coa.gov.tw/Uploads/opendata/AgriStay01/APPLY_D/20151106165520.jpg', 'Latitude': '22.4743333', 'Longitude': '120.5460051'}\n",
      "{'ID': '01_12', 'Name': '東遊季休閒農場', 'Address': '台東縣卑南鄉溫泉村溫泉路376巷18號', 'Tel': '089-516111 #700、089-516111 #801(謝小姐、黃先生)', 'HostWords': '位於台東縣知本溫泉區的入口，占地近 15 公頃的東遊季溫泉渡假村，不僅擁有知本地區最大、最完整的溫泉 SPA 區，近年來更積極復育蝴蝶成為生態花園、種植台東特有的蕨類、營造甲蟲棲息地、開發槌球場等等，將養生休閒的觀念導入的經營理念。<br><br>\\r\\n\\r\\n目前東遊季農民會館共有 38 間、休閒屋 26 間、湯屋 22 間，約可容納 300 人左右，另外尚有會議室可提供遊客教育訓練使用。設備完善的溫泉區內除有泡湯池、戲水池、泳池、烤箱、蒸氣室、SPA 池、植物芬多精池、遠紅外線能量屋等現代化設備外，遊憩區內有寬大草坪、健康步道等，讓遊客可以無拘無束的徜徉在寧靜的山谷森林浴中。<br><br>\\r\\n\\r\\n全新裝潢、重新開幕的東遊季田媽媽養生餐廳，發展出一套樸實風味特色的田園料理，成為當地獨具一格的美食文化。在強調「低糖、低油、低鹽、高纖維、高鈣」的現代人保健養生飲食觀念下，今年特別推出「四季饗宴」為主題的地方特色料理，以台東本地的季節農產品入菜，並以保健植物為主題研發出具養生功能的各式夏季料理，菜色的設計主要以清爽、不油膩為重點，廣受老饕喜愛。', 'Price': '', 'OpenHours': '溫泉區：08:00~23:00。餐廳區：(早) 07:00~09:30、(中) 11:00~14:00、(晚) 17:00~20:00', 'CreditCard': 'True', 'TravelCard': 'True', 'TrafficGuidelines': '', 'ParkingLot': '', 'Url': 'http://www.toyugi.com.tw/', 'Email': 'tt.k0016@msa.hinet.net', 'BlogUrl': '', 'PetNotice': '', 'Reminder': '', 'StayCapacity': '', 'StayFeature': '位於台東縣知本溫泉區的入口，占地近 15 公頃的東遊季溫泉渡假村，不僅擁有知本地區最大、最完整的溫泉 SPA 區，近年來更積極復育蝴蝶成為生態花園、種植台東特有的蕨類、營造甲蟲棲息地、開發槌球場等等，將養生休閒的觀念導入的經營理念。<br><br>\\r\\n\\r\\n目前東遊季農民會館共有 38 間、休閒屋 26 間、湯屋 22 間，約可容納 300 人左右，另外尚有會議室可提供遊客教育訓練使用。設備完善的溫泉區內除有泡湯池、戲水池、泳池、烤箱、蒸氣室、SPA 池、植物芬多精池、遠紅外線能量屋等現代化設備外，遊憩區內有寬大草坪、健康步道等，讓遊客可以無拘無束的徜徉在寧靜的山谷森林浴中。<br><br>\\r\\n\\r\\n全新裝潢、重新開幕的東遊季田媽媽養生餐廳，發展出一套樸實風味特色的田園料理，成為當地獨具一格的美食文化。在強調「低糖、低油、低鹽、高纖維、高鈣」的現代人保健養生飲食觀念下，今年特別推出「四季饗宴」為主題的地方特色料理，以台東本地的季節農產品入菜，並以保健植物為主題研發出具養生功能的各式夏季料理，菜色的設計主要以清爽、不油膩為重點，廣受老饕喜愛。', 'City': '臺東縣', 'Town': '卑南鄉', 'Photo': 'https://ezgo.coa.gov.tw/Uploads/opendata/AgriStay01/APPLY_D/20151106174052.jpg', 'Latitude': '22.6966841', 'Longitude': '121.0204340'}\n"
     ]
    }
   ],
   "source": [
    "for i in temp:\n",
    "    print(i) "
   ]
  },
  {
   "cell_type": "code",
   "execution_count": 16,
   "id": "71295bcc",
   "metadata": {},
   "outputs": [],
   "source": [
    "#查詢\n",
    "ask = \"宜蘭縣\"\n",
    "for i in temp:\n",
    "    if ask == i.get('City'):\n",
    "        print(i.get('Name'),'在',ask,'地址是',i.get('Address'))   "
   ]
  }
 ],
 "metadata": {
  "kernelspec": {
   "display_name": "Python 3 (ipykernel)",
   "language": "python",
   "name": "python3"
  },
  "language_info": {
   "codemirror_mode": {
    "name": "ipython",
    "version": 3
   },
   "file_extension": ".py",
   "mimetype": "text/x-python",
   "name": "python",
   "nbconvert_exporter": "python",
   "pygments_lexer": "ipython3",
   "version": "3.9.7"
  }
 },
 "nbformat": 4,
 "nbformat_minor": 5
}
