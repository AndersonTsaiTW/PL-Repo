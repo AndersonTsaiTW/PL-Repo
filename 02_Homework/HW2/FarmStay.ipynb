{
 "cells": [
  {
   "cell_type": "markdown",
   "id": "636112c9",
   "metadata": {},
   "source": [
    "# 主題：休閒農場_行程建議產生器\n",
    "\n",
    "以政府公佈的休閒農場清單作為資料基礎，供使用者查找想去的休閒農場，並且以價格及距離遠近作為行程建議\n",
    "\n",
    "### 資料取得：[來到農村住一晚-休閒農場住宿資訊](https://data.gov.tw/dataset/6413)\n",
    "\n",
    "政府公布的休閒農場清單，包含全台灣的休閒農場，其中有包含地址、電話、網站等聯絡方式，也有照片、主人的話等細部介紹，針對每個農場的各種資訊分門別類的紀錄，是適合以dictionary紀錄的資料型態\n",
    "\n",
    "下載時即為json格式，但輸入後為list型態而非dictionary，將於資料處理階段進行調整\n",
    "\n",
    "(補充說明：由於政府資料中price欄位皆為空值，此處將寫入虛擬價格資料以進行排序演示，但價格欄位並非真實資料)"
   ]
  },
  {
   "cell_type": "code",
   "execution_count": 1,
   "id": "ec9d22b1",
   "metadata": {},
   "outputs": [
    {
     "name": "stdout",
     "output_type": "stream",
     "text": [
      "原本是 <class 'list'> 現在是 <class 'dict'>\n"
     ]
    }
   ],
   "source": [
    "import json\n",
    "test = open('FarmStay_list.json',encoding=\"UTF-8\")\n",
    "data = json.load(test)\n",
    "test.close()\n",
    "#透過格式調整把list格式調整成dictionary\n",
    "farm_stay = {\"site\":data}\n",
    "print('原本是',type(data),'現在是',type(farm_stay))"
   ]
  },
  {
   "cell_type": "code",
   "execution_count": 2,
   "id": "61644716",
   "metadata": {},
   "outputs": [],
   "source": [
    "#寫入價格以供後續演示排序功能，考慮合理性設定價格服從常態分佈，且最小值1000元\n",
    "import numpy as np\n",
    "temp = farm_stay.get('site')\n",
    "for i in range(0,len(temp)):\n",
    "    temp[i]['Price'] = max( 10, round(np.random.normal(25, 10))) *100\n",
    "#至此，完成初步資料整理"
   ]
  },
  {
   "cell_type": "code",
   "execution_count": 3,
   "id": "d1deb4e2",
   "metadata": {},
   "outputs": [
    {
     "name": "stdout",
     "output_type": "stream",
     "text": [
      "{'ID': '01_10', 'Name': '走馬瀨休閒農場', 'Address': '台南市大內區二溪里唭子瓦 60 號', 'Tel': '06-5760121~3', 'HostWords': '走馬瀨農場以「草」起家，結合田媽媽轉型輔導，提供注重樂活的現代人「三低一高」的健康用餐地點。農場每天現採自己種植的油菜、蘿蔔、番茄等農物供應餐廳，讓客人每天吃到最新鮮的蔬菜。<br>\\r\\n牧草 DIY 活動以新鮮牧草為主角，自己動手作饅頭、麻糬，兩個小時內就可享用親手揉製的牧草食品，非常適合親子同樂。歡迎大家到「草香餐坊」享用牧草料理。', 'Price': 1600, 'OpenHours': '08:10~17:00 (假日)、09:10~17:00 (平日)', 'CreditCard': 'True', 'TravelCard': 'True', 'TrafficGuidelines': '', 'ParkingLot': '', 'Url': 'http://www.farm.com.tw/', 'Email': 'tainanfa@ms4.hinet.net', 'BlogUrl': '', 'PetNotice': '', 'Reminder': '', 'StayCapacity': '', 'StayFeature': '走馬瀨農場以「草」起家，結合田媽媽轉型輔導，提供注重樂活的現代人「三低一高」的健康用餐地點。農場每天現採自己種植的油菜、蘿蔔、番茄等農物供應餐廳，讓客人每天吃到最新鮮的蔬菜。<br>\\r\\n牧草 DIY 活動以新鮮牧草為主角，自己動手作饅頭、麻糬，兩個小時內就可享用親手揉製的牧草食品，非常適合親子同樂。歡迎大家到「草香餐坊」享用牧草料理。', 'City': '臺南市', 'Town': '大內區', 'Photo': 'https://ezgo.coa.gov.tw/Uploads/opendata/AgriStay01/APPLY_D/20151106173937.jpg', 'Latitude': '23.122445', 'Longitude': '120.4184781'}\n"
     ]
    }
   ],
   "source": [
    "#展示完成的第一筆資料\n",
    "print(farm_stay['site'][0])"
   ]
  },
  {
   "cell_type": "markdown",
   "id": "0c7d9bff",
   "metadata": {},
   "source": [
    "### --- 查詢及排序演示1：區域農場查詢器 ---\n",
    "常見的出遊選擇方式，會先選擇想去的區域，此處示範依照縣市別供使用者查詢想去的縣市有哪些休閒農場\n",
    "\n",
    "由於價格是常見考量因素，針對這個區域的民宿依照價格由高到低顯示清單，讓使用者可以更好的鎖定想去的休閒農場，並且對該農場做查詢"
   ]
  },
  {
   "cell_type": "code",
   "execution_count": 4,
   "id": "ed9e2315",
   "metadata": {},
   "outputs": [
    {
     "name": "stdout",
     "output_type": "stream",
     "text": [
      "苗栗縣 有 2 家，雲林縣 有 1 家，嘉義縣 有 9 家，屏東縣 有 5 家，高雄市 有 1 家，宜蘭縣 有 28 家，新竹縣 有 2 家，新北市 有 4 家，臺東縣 有 10 家，金門縣 有 4 家，南投縣 有 2 家，臺南市 有 10 家，臺中市 有 1 家，澎湖縣 有 1 家，花蓮縣 有 4 家，總共有 84 家休閒農場\n"
     ]
    }
   ],
   "source": [
    "#由於不確定哪些區域有休閒農場，先製造資料清單檢視區域家數\n",
    "city_set = set()\n",
    "for i in range(0,len(temp)):\n",
    "    city_set.add(temp[i]['City'])\n",
    "city_list = list(city_set)\n",
    "\n",
    "t_num = 0\n",
    "for j in range(0,len(city_list)):\n",
    "    r_num = 0\n",
    "    for i in range(0,len(temp)):\n",
    "        if city_list[j] == temp[i]['City']:\n",
    "            r_num = r_num + 1\n",
    "    print(city_list[j],'有',r_num,'家',end=\"，\")\n",
    "    t_num = t_num + r_num\n",
    "print('總共有',t_num,'家休閒農場')    "
   ]
  },
  {
   "cell_type": "code",
   "execution_count": 5,
   "id": "71295bcc",
   "metadata": {},
   "outputs": [
    {
     "name": "stdout",
     "output_type": "stream",
     "text": [
      "請參考上方清單輸入地區：花蓮縣\n",
      "花蓮縣休閒農場清單\n",
      "新光兆豐休閒農場\n",
      "狗 Go 快樂寵物民宿\n",
      "白陽山莊民宿\n",
      "忘憂園民宿\n"
     ]
    }
   ],
   "source": [
    "#區域清單查詢，以 花蓮縣 為例\n",
    "reg =  input('請參考上方清單輸入地區：')\n",
    "r_list = []\n",
    "print(reg,'休閒農場清單',sep = '')\n",
    "for i in temp:\n",
    "    if reg == i.get('City'):\n",
    "        print(i.get('Name'))\n",
    "        r_list.append([i.get('Name'),i.get('Price'),i.get('City'),i.get('Town')])"
   ]
  },
  {
   "cell_type": "code",
   "execution_count": 6,
   "id": "c00514e2",
   "metadata": {},
   "outputs": [
    {
     "name": "stdout",
     "output_type": "stream",
     "text": [
      "--- 花蓮縣區域休閒農場依照預估費用排序結果（由高到低）---\n",
      "[狗 Go 快樂寵物民宿] 預估費用：3000元，所在區域：花蓮縣花蓮市\n",
      "[新光兆豐休閒農場] 預估費用：1500元，所在區域：花蓮縣鳳林鎮\n",
      "[忘憂園民宿] 預估費用：1300元，所在區域：花蓮縣富里鄉\n",
      "[白陽山莊民宿] 預估費用：1200元，所在區域：花蓮縣吉安鄉\n"
     ]
    }
   ],
   "source": [
    "#區域農場依價格排序\n",
    "r_price = []\n",
    "for i in range(0,len(r_list)):\n",
    "    r_price.append(r_list[i][1])\n",
    "\n",
    "#使用虛擬賦值方式製作\n",
    "r_price_enum = enumerate(r_price)\n",
    "r_price_sorted = sorted(r_price_enum, key = lambda s: s[1], reverse = True)\n",
    "\n",
    "# 印出排序過後的區域農場資訊\n",
    "print('--- ',reg,'區域休閒農場依照預估費用排序結果（由高到低）---',sep = '')\n",
    "for i in r_price_sorted:\n",
    "    j = i[0]\n",
    "    print('[',r_list[j][0],'] 預估費用：',r_list[j][1],'元，所在區域：',r_list[j][2],r_list[j][3],sep = '')"
   ]
  },
  {
   "cell_type": "code",
   "execution_count": 7,
   "id": "77be7bf1",
   "metadata": {},
   "outputs": [
    {
     "name": "stdout",
     "output_type": "stream",
     "text": [
      "請輸入有興趣的休閒農場名稱（建議複製貼上）：忘憂園民宿\n",
      "[忘憂園民宿]\n",
      "地址： 花蓮縣富里鄉竹田村 25 鄰雲閩 33 號  \n",
      "營業時間： 全年營業 \n",
      "電話： 0972-837-928 \n",
      "網址： http://60stonedaylily.hlbnb.tw/ \n",
      "預估費用： 1300 元\n",
      "主人介紹： 座落於花蓮富里鄉六十石山上的「忘憂園」，沿著草坡小徑漫步，吹拂著山間微風，徜徉在大自然的懷抱裡。駐足觀景亭上，居高鄰下，鳥瞰遍野的金針花海，藍天白雲盡收眼底。花季盛開時，大地將碧綠染上金黃色，「忘憂園」邀您一同來感受，這個與世隔絕的渡假天堂。忘憂園內有獨特的建築外觀與傳統生活器具，展現了充滿活力的藝術文化與生活風貌，走入室內，明亮典雅的空間及溫馨舒適的客房寢具，讓遊客感受到我們溫柔體貼旅客的用心。來「忘憂園」渡假吧！與大自然來一場自在之旅。<br><br>\n",
      "\n",
      "舊名「忘憂」的金針花，來自於古人望朋友希望其忘卻憂愁，以金針花贈與，所以金針花才有「忘憂草」這麼美的名字。就連詩聖白居易也以一首詩歌詠金針花，其句為「杜康能解悶，萱草能忘憂」，因可眺望金針花壯麗盛況，所以「忘憂園」以此命名，園主也希望來到六十石山休閒的朋友能解悶忘憂消暑。<br><br>\n",
      "\n",
      "位於六十石山中心點的忘憂園，備有大型停車場、戶外活動廣場，視野開闊，主人林素鳳熱情親自接待，讓消費者有賓至如歸之感。此外忘憂園也提供風味套餐、合菜、農特產品展售等服務，賣場產品種類多，販賣如段木香菇、金針乾品等多種當地農特產，希冀各位來到這裡真能忘卻俗塵煩憂，寧靜地和大自然相結合。\n"
     ]
    }
   ],
   "source": [
    "#目標農場資訊查詢，以 忘憂園民宿 為例\n",
    "ask =  input('請輸入有興趣的休閒農場名稱（建議複製貼上）：')\n",
    "for i in temp:\n",
    "    if ask == i.get('Name'):\n",
    "        print('[',ask,']',sep = \"\")\n",
    "        print('地址：',i.get('Address'),' \\n營業時間：',i.get('OpenHours'),\n",
    "              '\\n電話：',i.get('Tel'),'\\n網址：',i.get('Url'),\n",
    "              '\\n預估費用：',i.get('Price'),'元'\n",
    "              '\\n主人介紹：',i.get('HostWords'))"
   ]
  },
  {
   "cell_type": "markdown",
   "id": "e67e4ae9",
   "metadata": {},
   "source": [
    "### --- 查詢及排序演示2：休閒農場系列之旅 ---\n",
    "安排行程時，我們希望各個景點不要間隔太遠，如果使用者已經確定想去的第一個休閒農場，我們將列出最靠近的5個休閒農場，讓使用者規劃休閒農場系列之旅\n",
    "\n",
    "ps：將使用經緯度計算景點間直線距離，非行車等交通距離"
   ]
  },
  {
   "cell_type": "code",
   "execution_count": 8,
   "id": "48e19db2",
   "metadata": {},
   "outputs": [
    {
     "name": "stdout",
     "output_type": "stream",
     "text": [
      "154.66263123739571\n"
     ]
    }
   ],
   "source": [
    "#經緯度算距離必須以球面概念計算弧長，自網路上取得參考程式碼\n",
    "#參考網址：https://tw.pythontechworld.com/article/detail/GGIy5srnFOcr\n",
    "#distance(lng_A（Ａ點的經度）, lat_A（Ａ點的緯度）, lng_B, lat_B)\n",
    "import math\n",
    "def distance(lng_A, lat_A, lng_B, lat_B):\n",
    "    R = 6371.004\n",
    "    pi = 3.141592654\n",
    "\n",
    "    Mlng_A = lng_A\n",
    "    Mlat_A = 90 - lat_A\n",
    "\n",
    "    Mlng_B = lng_B\n",
    "    Mlat_B = 90 - lat_B\n",
    "\n",
    "    C = math.sin(Mlat_A*pi/180) * math.sin(Mlat_B*pi/180) * math.cos((Mlng_A - Mlng_B)*pi/180) +math.cos(Mlat_A*pi/180) * math.cos(Mlat_B*pi/180)\n",
    "    Distance = R * math.acos(C)\n",
    "\n",
    "    return Distance\n",
    "\n",
    "d= distance(113.37935836,31.71785761,114.3933937,30.63068048)\n",
    "print(d)"
   ]
  },
  {
   "cell_type": "code",
   "execution_count": 9,
   "id": "73a76662",
   "metadata": {},
   "outputs": [
    {
     "name": "stdout",
     "output_type": "stream",
     "text": [
      "請輸入你預定前往的休閒農場：忘憂園民宿\n"
     ]
    }
   ],
   "source": [
    "#以 忘憂園民宿 為例\n",
    "mark = input('請輸入你預定前往的休閒農場：') \n",
    "#取得目標農場的經緯度\n",
    "for i in temp:\n",
    "    if ask == i.get('Name'):\n",
    "        lng_mark = float(i.get('Longitude'))\n",
    "        lat_mark = float(i.get('Latitude'))"
   ]
  },
  {
   "cell_type": "code",
   "execution_count": 10,
   "id": "798d09b9",
   "metadata": {},
   "outputs": [
    {
     "data": {
      "text/plain": [
       "['走馬瀨休閒農場', 1600, '臺南市', '大內區', 91.62425021139411]"
      ]
     },
     "execution_count": 10,
     "metadata": {},
     "output_type": "execute_result"
    }
   ],
   "source": [
    "#計算整張列表其他農場跟他的距離\n",
    "dist_list = []\n",
    "for i in temp:\n",
    "    d = distance(lng_mark,lat_mark,float(i.get('Longitude')),float(i.get('Latitude')))\n",
    "    dist_list.append([i.get('Name'),i.get('Price'),i.get('City'),i.get('Town'),d])\n",
    "dist_list[0]"
   ]
  },
  {
   "cell_type": "code",
   "execution_count": 13,
   "id": "73ef74cd",
   "metadata": {},
   "outputs": [
    {
     "name": "stdout",
     "output_type": "stream",
     "text": [
      "--- 離 忘憂園民宿 最近的5家休閒農場（由近到遠）---\n",
      "[竹湖山居自然生態休閒農場] 距離：13.8公里，預估費用：1100元，所在區域：臺東縣長濱鄉\n",
      "[換鵝山房民宿] 距離：14.2公里，預估費用：2700元，所在區域：臺東縣池上鄉\n",
      "[福吉園民宿] 距離：14.7公里，預估費用：2600元，所在區域：臺東縣池上鄉\n",
      "[池上蠶桑休閒農場] 距離：18.0公里，預估費用：1300元，所在區域：臺東縣池上鄉\n",
      "[東籬格民宿] 距離：24.5公里，預估費用：2800元，所在區域：臺東縣關山鎮\n"
     ]
    }
   ],
   "source": [
    "#依距離排序\n",
    "d_all = []\n",
    "for i in range(0,len(dist_list)):\n",
    "    d_all.append(dist_list[i][4])\n",
    "#使用虛擬賦值方式製作\n",
    "d_all_enum = enumerate(d_all)\n",
    "d_all_sorted = sorted(d_all_enum, key = lambda s: s[1])\n",
    "# 印出排序過後的區域農場資訊\n",
    "print('--- 離',mark,'最近的5家休閒農場（由近到遠）---')\n",
    "for i in d_all_sorted[1:6]:\n",
    "    j = i[0]\n",
    "    print('[',dist_list[j][0],'] 距離：',round(dist_list[j][4],1),'公里，預估費用：',dist_list[j][1],'元，所在區域：',dist_list[j][2],dist_list[j][3],sep = '')"
   ]
  },
  {
   "cell_type": "code",
   "execution_count": 14,
   "id": "e965c7e2",
   "metadata": {},
   "outputs": [
    {
     "name": "stdout",
     "output_type": "stream",
     "text": [
      "2900\n",
      "4800\n",
      "3100\n",
      "3100\n",
      "1400\n",
      "2100\n",
      "3200\n",
      "4300\n",
      "2700\n",
      "2300\n",
      "1000\n",
      "3400\n",
      "2500\n",
      "2000\n",
      "3500\n",
      "3000\n",
      "2800\n",
      "2600\n",
      "2800\n",
      "4000\n"
     ]
    }
   ],
   "source": [
    "#程式測試區\n",
    "import numpy as np\n",
    "\n",
    "temp = farm_stay.get('site')\n",
    "for i in range(0,20):\n",
    "    print(max( 10, round(np.random.normal(25, 10))) *100)"
   ]
  }
 ],
 "metadata": {
  "kernelspec": {
   "display_name": "Python 3 (ipykernel)",
   "language": "python",
   "name": "python3"
  },
  "language_info": {
   "codemirror_mode": {
    "name": "ipython",
    "version": 3
   },
   "file_extension": ".py",
   "mimetype": "text/x-python",
   "name": "python",
   "nbconvert_exporter": "python",
   "pygments_lexer": "ipython3",
   "version": "3.9.7"
  }
 },
 "nbformat": 4,
 "nbformat_minor": 5
}
