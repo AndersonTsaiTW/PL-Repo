{
 "cells": [
  {
   "cell_type": "markdown",
   "id": "7b36a56d",
   "metadata": {},
   "source": [
    "## ptt_movie版資料下載"
   ]
  },
  {
   "cell_type": "code",
   "execution_count": 1,
   "id": "abb2de3b",
   "metadata": {},
   "outputs": [
    {
     "name": "stdout",
     "output_type": "stream",
     "text": [
      "Requirement already satisfied: beautifulsoup4 in /opt/anaconda3/lib/python3.9/site-packages (4.10.0)\n",
      "Requirement already satisfied: soupsieve>1.2 in /opt/anaconda3/lib/python3.9/site-packages (from beautifulsoup4) (2.2.1)\n"
     ]
    }
   ],
   "source": [
    "!pip install beautifulsoup4\n",
    "from bs4 import BeautifulSoup \n",
    "import requests\n",
    "import json\n",
    "import csv"
   ]
  },
  {
   "cell_type": "code",
   "execution_count": 9,
   "id": "05ca2642",
   "metadata": {},
   "outputs": [],
   "source": [
    "response = requests.get(\"https://www.ptt.cc/bbs/movie/index9507.html\")\n",
    "soup = BeautifulSoup(response.text, \"html.parser\")\n",
    "#print(soup.prettify())  #輸出排版後的HTML內容"
   ]
  },
  {
   "cell_type": "code",
   "execution_count": 4,
   "id": "c2bc75e8",
   "metadata": {},
   "outputs": [
    {
     "name": "stdout",
     "output_type": "stream",
     "text": [
      "[<a href=\"/bbs/movie/M.1667393942.A.1E6.html\">[討論] 阿凡達：水之道 完整預告出爐</a>, <a href=\"/bbs/movie/M.1667397123.A.69A.html\">[新聞] 丹尼爾雷德克里夫認為站出來反對 JK 羅琳</a>, <a href=\"/bbs/movie/M.1667399051.A.84C.html\">Re: [請益] 有沒有推薦的香港警匪片</a>, <a href=\"/bbs/movie/M.1667400697.A.969.html\">[新聞] 汪達兒子加盟《混沌女巫團》成為同性戀</a>, <a href=\"/bbs/movie/M.1667402594.A.466.html\">[新聞] 《聖誕夜驚魂》掛名提姆波頓 導演坦言不</a>, <a href=\"/bbs/movie/M.1667403032.A.A40.html\">Re: [討論] 有比搶救雷恩大兵 厄本還黑的角色嗎?</a>, <a href=\"/bbs/movie/M.1667403272.A.005.html\">[新聞] 原作者證實《BJ單身日記》第四集正醞釀中</a>, <a href=\"/bbs/movie/M.1667403808.A.304.html\">[好雷] 罪後真相二刷心得</a>, <a href=\"/bbs/movie/M.1667403916.A.E25.html\">[討論] 哈利波特電影算是靠原著紅嗎？</a>, <a href=\"/bbs/movie/M.1667403921.A.096.html\">[討論] 《酷愛電影的龐波小姐》已上架動畫瘋</a>, <a href=\"/bbs/movie/M.1667404988.A.AB7.html\">[普雷] 流麻溝十五號：看完反而省思更多</a>, <a href=\"/bbs/movie/M.1667410248.A.AEF.html\">[討論] 「有雷」西線無戰事衣服問題</a>, <a href=\"/bbs/movie/M.1667410524.A.EB6.html\">[普雷] 流麻溝十五號</a>, <a href=\"/bbs/movie/M.1667412136.A.E0D.html\">[討論] Michael J. Fox是很勇敢的演員吧？</a>, <a href=\"/bbs/movie/M.1630756788.A.1FE.html\">[公告] 電影板板規 2021/9/4</a>, <a href=\"/bbs/movie/M.1636002497.A.7EC.html\">[宣導] 請注意防雷 / 分類</a>, <a href=\"/bbs/movie/M.1664272810.A.ED2.html\">[情報] 2022 第59屆金馬獎 入圍名單&amp;入圍統計</a>]\n"
     ]
    }
   ],
   "source": [
    "#抓取標題（含網址）、日期及作者\n",
    "title = soup.select(\"div.title a\")\n",
    "date = soup.select(\"div.date\")\n",
    "author = soup.select(\"div.author\")\n",
    "print(title)"
   ]
  },
  {
   "cell_type": "code",
   "execution_count": 7,
   "id": "2b8c1aec",
   "metadata": {},
   "outputs": [],
   "source": [
    "#存為json檔案\n",
    "movie_pdict = []\n",
    "for i in range(len(title)):\n",
    "    movie_pdict.append({\"wabsite\":title[i][\"href\"],\"title\":title[i].text,\"date\":date[i].text,\"author\":author[i].text})\n",
    "movie_dict = {\"movie\":movie_pdict}\n",
    "\n",
    "with open(\"movie_dict.json\", \"w\") as f:\n",
    "    json.dump(movie_dict, f)"
   ]
  },
  {
   "cell_type": "code",
   "execution_count": 8,
   "id": "8c577bc6",
   "metadata": {},
   "outputs": [],
   "source": [
    "#存為csv檔案\n",
    "movie_list = []\n",
    "for i in range(len(title)):\n",
    "    movie_list.append([title[i][\"href\"],title[i].text,date[i].text,author[i].text])\n",
    "\n",
    "with open('movie_list.csv', 'w', newline='') as csvfile:\n",
    "    writer = csv.writer(csvfile)\n",
    "    writer.writerows(movie_list)"
   ]
  }
 ],
 "metadata": {
  "kernelspec": {
   "display_name": "Python 3 (ipykernel)",
   "language": "python",
   "name": "python3"
  },
  "language_info": {
   "codemirror_mode": {
    "name": "ipython",
    "version": 3
   },
   "file_extension": ".py",
   "mimetype": "text/x-python",
   "name": "python",
   "nbconvert_exporter": "python",
   "pygments_lexer": "ipython3",
   "version": "3.9.7"
  }
 },
 "nbformat": 4,
 "nbformat_minor": 5
}
