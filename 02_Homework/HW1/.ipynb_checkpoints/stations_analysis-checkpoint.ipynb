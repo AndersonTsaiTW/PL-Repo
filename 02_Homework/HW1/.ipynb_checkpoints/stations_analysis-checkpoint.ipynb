{
 "cells": [
  {
   "cell_type": "markdown",
   "id": "18d890bb",
   "metadata": {},
   "source": [
    "「主題說明」\n",
    "針對台鐵各個站點，取得進出站人數資料，比對哪些站點已經常無人使用，可作為未來淘汰站點的政策參考。\n",
    "請將畫面拉動到 最下方 的程式碼，你可以輸入你感興趣的時間區間，並且設定你認為一個車站一天至少要有多少人次使用，我們將顯示出您認為運載量不足的車站列表。\n",
    "\n",
    "「資料取得」\n",
    "透過[政府資料開放平臺](https://data.gov.tw/)取得資料，主要使用以下兩項資料：\n",
    "1. A set 所有台鐵車站列表(有242個站)\n",
    "車站基本資料集(https://data.gov.tw/dataset/33425)\n",
    "2. B set 每天各站的進出人數(2022/1/1只有239筆)(目前資料區間為2022/1/1-2022/7/31)\n",
    "每日各站點進出站人數(https://data.gov.tw/dataset/8792)\n",
    "\n",
    "「資料格式」\n",
    "目標為使用.csv格式資料，政府資料開放平臺可直接下載.csv資料\n",
    "已下載並存於相同專案資料夾中(https://github.com/AndersonTsaiTW/PL-Repo/tree/main/02_Homework/HW1)，並命名如下。\n",
    "* num：每日各站點進出站人數\n",
    "* station：車站基本資料集\n",
    "註：若下載xml格式，可透過excel另存為csv格式，或是透過python的ElementTree模組調整格式\n",
    "(參考網址1：https://www.delftstack.com/zh-tw/howto/python/xml-to-csv-python/)\n",
    "(參考網址2：https://stackabuse.com/reading-and-writing-xml-files-in-python/)\n",
    "\n",
    "「讀入資料」\n",
    "透過pandas的read_csv功能讀取，請參考下方程式碼。"
   ]
  },
  {
   "cell_type": "code",
   "execution_count": 247,
   "id": "2f858abc",
   "metadata": {},
   "outputs": [
    {
     "name": "stdout",
     "output_type": "stream",
     "text": [
      "<class 'pandas.core.frame.DataFrame'>\n",
      "<class 'pandas.core.frame.DataFrame'>\n"
     ]
    },
    {
     "data": {
      "text/html": [
       "<div>\n",
       "<style scoped>\n",
       "    .dataframe tbody tr th:only-of-type {\n",
       "        vertical-align: middle;\n",
       "    }\n",
       "\n",
       "    .dataframe tbody tr th {\n",
       "        vertical-align: top;\n",
       "    }\n",
       "\n",
       "    .dataframe thead th {\n",
       "        text-align: right;\n",
       "    }\n",
       "</style>\n",
       "<table border=\"1\" class=\"dataframe\">\n",
       "  <thead>\n",
       "    <tr style=\"text-align: right;\">\n",
       "      <th></th>\n",
       "      <th>month</th>\n",
       "      <th>date</th>\n",
       "      <th>trnOpDate</th>\n",
       "      <th>staCode</th>\n",
       "      <th>gateInComingCnt</th>\n",
       "      <th>gateOutGoingCnt</th>\n",
       "      <th>total</th>\n",
       "    </tr>\n",
       "  </thead>\n",
       "  <tbody>\n",
       "    <tr>\n",
       "      <th>0</th>\n",
       "      <td>202201</td>\n",
       "      <td>0101</td>\n",
       "      <td>20220101</td>\n",
       "      <td>900</td>\n",
       "      <td>8645</td>\n",
       "      <td>8526</td>\n",
       "      <td>17171</td>\n",
       "    </tr>\n",
       "    <tr>\n",
       "      <th>1</th>\n",
       "      <td>202201</td>\n",
       "      <td>0101</td>\n",
       "      <td>20220101</td>\n",
       "      <td>910</td>\n",
       "      <td>996</td>\n",
       "      <td>1243</td>\n",
       "      <td>2239</td>\n",
       "    </tr>\n",
       "    <tr>\n",
       "      <th>2</th>\n",
       "      <td>202201</td>\n",
       "      <td>0101</td>\n",
       "      <td>20220101</td>\n",
       "      <td>920</td>\n",
       "      <td>1369</td>\n",
       "      <td>1711</td>\n",
       "      <td>3080</td>\n",
       "    </tr>\n",
       "    <tr>\n",
       "      <th>3</th>\n",
       "      <td>202201</td>\n",
       "      <td>0101</td>\n",
       "      <td>20220101</td>\n",
       "      <td>930</td>\n",
       "      <td>3663</td>\n",
       "      <td>4535</td>\n",
       "      <td>8198</td>\n",
       "    </tr>\n",
       "    <tr>\n",
       "      <th>4</th>\n",
       "      <td>202201</td>\n",
       "      <td>0101</td>\n",
       "      <td>20220101</td>\n",
       "      <td>940</td>\n",
       "      <td>1532</td>\n",
       "      <td>1845</td>\n",
       "      <td>3377</td>\n",
       "    </tr>\n",
       "  </tbody>\n",
       "</table>\n",
       "</div>"
      ],
      "text/plain": [
       "    month  date trnOpDate staCode  gateInComingCnt  gateOutGoingCnt  total\n",
       "0  202201  0101  20220101     900             8645             8526  17171\n",
       "1  202201  0101  20220101     910              996             1243   2239\n",
       "2  202201  0101  20220101     920             1369             1711   3080\n",
       "3  202201  0101  20220101     930             3663             4535   8198\n",
       "4  202201  0101  20220101     940             1532             1845   3377"
      ]
     },
     "execution_count": 247,
     "metadata": {},
     "output_type": "execute_result"
    }
   ],
   "source": [
    "import pandas as pd\n",
    "from datetime import datetime\n",
    "st = pd.read_csv(\"station.csv\")\n",
    "num = pd.read_csv(\"num.csv\")\n",
    "print(type(st))\n",
    "print(type(num))\n",
    "\n",
    "st[\"stationCode\"] = st[\"stationCode\"].apply(str)\n",
    "num[\"staCode\"] = num[\"staCode\"].apply(str)\n",
    "num[\"trnOpDate\"] = num[\"trnOpDate\"].apply(str)\n",
    "#新增月份欄位，可以使用[]加在尾端，或是如下使用insert\n",
    "num.insert(0,column = \"date\",value = num[\"trnOpDate\"].str.slice(4,8))\n",
    "num.insert(0,column = \"month\",value = num[\"trnOpDate\"].str.slice(0,6))\n",
    "num.insert(6,column = \"total\",value = num[\"gateInComingCnt\"]+num[\"gateOutGoingCnt\"])\n",
    "num.head()"
   ]
  },
  {
   "cell_type": "code",
   "execution_count": 248,
   "id": "ea3e78c1",
   "metadata": {},
   "outputs": [
    {
     "data": {
      "text/html": [
       "<div>\n",
       "<style scoped>\n",
       "    .dataframe tbody tr th:only-of-type {\n",
       "        vertical-align: middle;\n",
       "    }\n",
       "\n",
       "    .dataframe tbody tr th {\n",
       "        vertical-align: top;\n",
       "    }\n",
       "\n",
       "    .dataframe thead th {\n",
       "        text-align: right;\n",
       "    }\n",
       "</style>\n",
       "<table border=\"1\" class=\"dataframe\">\n",
       "  <thead>\n",
       "    <tr style=\"text-align: right;\">\n",
       "      <th></th>\n",
       "      <th>stationCode</th>\n",
       "      <th>stationName</th>\n",
       "      <th>stationEName</th>\n",
       "      <th>name</th>\n",
       "      <th>ename</th>\n",
       "      <th>stationAddrTw</th>\n",
       "      <th>stationAddrEn</th>\n",
       "      <th>stationTel</th>\n",
       "      <th>gps</th>\n",
       "    </tr>\n",
       "  </thead>\n",
       "  <tbody>\n",
       "    <tr>\n",
       "      <th>0</th>\n",
       "      <td>900</td>\n",
       "      <td>基隆</td>\n",
       "      <td>Keelung</td>\n",
       "      <td>基隆</td>\n",
       "      <td>Keelung</td>\n",
       "      <td>基隆市中山區民治里1鄰中山一路16之 1號</td>\n",
       "      <td>No. 16-1, Zhongshan 1st Rd, Zhongshan Dist., K...</td>\n",
       "      <td>02-24263743</td>\n",
       "      <td>25.13401 121.74013</td>\n",
       "    </tr>\n",
       "    <tr>\n",
       "      <th>1</th>\n",
       "      <td>910</td>\n",
       "      <td>三坑</td>\n",
       "      <td>Sankeng</td>\n",
       "      <td>三坑</td>\n",
       "      <td>Sankeng</td>\n",
       "      <td>基隆市仁愛區德厚里龍安街 206 號</td>\n",
       "      <td>No. 206, Long’an St., Ren`ai Dist., Keelung City</td>\n",
       "      <td>02-24230289</td>\n",
       "      <td>25.12305 121.74202</td>\n",
       "    </tr>\n",
       "    <tr>\n",
       "      <th>2</th>\n",
       "      <td>920</td>\n",
       "      <td>八堵</td>\n",
       "      <td>Badu</td>\n",
       "      <td>八堵</td>\n",
       "      <td>Badu</td>\n",
       "      <td>基隆市暖暖區八南里八堵路 142 號</td>\n",
       "      <td>No. 142, Badu Rd., Nuannuan Dist., Keelung City</td>\n",
       "      <td>02-24560841</td>\n",
       "      <td>25.10843 121.72898</td>\n",
       "    </tr>\n",
       "  </tbody>\n",
       "</table>\n",
       "</div>"
      ],
      "text/plain": [
       "  stationCode stationName stationEName name    ename          stationAddrTw  \\\n",
       "0         900          基隆      Keelung   基隆  Keelung  基隆市中山區民治里1鄰中山一路16之 1號   \n",
       "1         910          三坑      Sankeng   三坑  Sankeng     基隆市仁愛區德厚里龍安街 206 號   \n",
       "2         920          八堵         Badu   八堵     Badu     基隆市暖暖區八南里八堵路 142 號   \n",
       "\n",
       "                                       stationAddrEn   stationTel  \\\n",
       "0  No. 16-1, Zhongshan 1st Rd, Zhongshan Dist., K...  02-24263743   \n",
       "1   No. 206, Long’an St., Ren`ai Dist., Keelung City  02-24230289   \n",
       "2    No. 142, Badu Rd., Nuannuan Dist., Keelung City  02-24560841   \n",
       "\n",
       "                  gps  \n",
       "0  25.13401 121.74013  \n",
       "1  25.12305 121.74202  \n",
       "2  25.10843 121.72898  "
      ]
     },
     "execution_count": 248,
     "metadata": {},
     "output_type": "execute_result"
    }
   ],
   "source": [
    "#透過head與tail初步檢視資料結構\n",
    "st.head(3)"
   ]
  },
  {
   "cell_type": "code",
   "execution_count": 249,
   "id": "a718dbdf",
   "metadata": {},
   "outputs": [
    {
     "data": {
      "text/html": [
       "<div>\n",
       "<style scoped>\n",
       "    .dataframe tbody tr th:only-of-type {\n",
       "        vertical-align: middle;\n",
       "    }\n",
       "\n",
       "    .dataframe tbody tr th {\n",
       "        vertical-align: top;\n",
       "    }\n",
       "\n",
       "    .dataframe thead th {\n",
       "        text-align: right;\n",
       "    }\n",
       "</style>\n",
       "<table border=\"1\" class=\"dataframe\">\n",
       "  <thead>\n",
       "    <tr style=\"text-align: right;\">\n",
       "      <th></th>\n",
       "      <th>month</th>\n",
       "      <th>date</th>\n",
       "      <th>trnOpDate</th>\n",
       "      <th>staCode</th>\n",
       "      <th>gateInComingCnt</th>\n",
       "      <th>gateOutGoingCnt</th>\n",
       "      <th>total</th>\n",
       "    </tr>\n",
       "  </thead>\n",
       "  <tbody>\n",
       "    <tr>\n",
       "      <th>50565</th>\n",
       "      <td>202208</td>\n",
       "      <td>0801</td>\n",
       "      <td>20220801</td>\n",
       "      <td>7362</td>\n",
       "      <td>96</td>\n",
       "      <td>121</td>\n",
       "      <td>217</td>\n",
       "    </tr>\n",
       "    <tr>\n",
       "      <th>50566</th>\n",
       "      <td>202208</td>\n",
       "      <td>0801</td>\n",
       "      <td>20220801</td>\n",
       "      <td>7380</td>\n",
       "      <td>606</td>\n",
       "      <td>593</td>\n",
       "      <td>1199</td>\n",
       "    </tr>\n",
       "    <tr>\n",
       "      <th>50567</th>\n",
       "      <td>202208</td>\n",
       "      <td>0801</td>\n",
       "      <td>20220801</td>\n",
       "      <td>7390</td>\n",
       "      <td>413</td>\n",
       "      <td>442</td>\n",
       "      <td>855</td>\n",
       "    </tr>\n",
       "  </tbody>\n",
       "</table>\n",
       "</div>"
      ],
      "text/plain": [
       "        month  date trnOpDate staCode  gateInComingCnt  gateOutGoingCnt  total\n",
       "50565  202208  0801  20220801    7362               96              121    217\n",
       "50566  202208  0801  20220801    7380              606              593   1199\n",
       "50567  202208  0801  20220801    7390              413              442    855"
      ]
     },
     "execution_count": 249,
     "metadata": {},
     "output_type": "execute_result"
    }
   ],
   "source": [
    "#透過head與tail初步檢視資料結構\n",
    "num.tail(3)"
   ]
  },
  {
   "cell_type": "code",
   "execution_count": 250,
   "id": "847df481",
   "metadata": {},
   "outputs": [
    {
     "name": "stdout",
     "output_type": "stream",
     "text": [
      "請輸入第1個日期(MMDD)0501\n",
      "請輸入第2個日期(MMDD)0502\n"
     ]
    }
   ],
   "source": [
    "#本次比對0501及0502資料，作為初步檢視範例\n",
    "date_1 = input(\"請輸入第1個日期(MMDD)\")\n",
    "date_2 = input(\"請輸入第2個日期(MMDD)\")\n",
    "filt_1 = (num[\"date\"] == date_1)\n",
    "num_1 = num.loc[filt_1, [\"date\",\"staCode\",\"total\"]]\n",
    "filt_2 = (num[\"date\"] == date_2)\n",
    "num_2 = num.loc[filt_2, [\"date\",\"staCode\",\"total\"]]"
   ]
  },
  {
   "cell_type": "markdown",
   "id": "65bb11aa",
   "metadata": {},
   "source": [
    "以下將演示「交集」、「聯集」、「差集」、「對稱差集」四種運算，預計執行方式如下：\n",
    "* 「交集」：以進出站資料0501與0502做交集，看有哪些站這兩天都有人進出\n",
    "* 「聯集」：以進出站資料0501與0502做聯集，看至少一天有人進出的站有哪些\n",
    "* 「差集」：以車站資料與0501資料做差集，找尋0501沒有人進出的站\n",
    "* 「對稱差集」：以進出站資料0501與0502做對稱差集，看只有一天有人進出的站有哪些"
   ]
  },
  {
   "cell_type": "code",
   "execution_count": 251,
   "id": "2200caf2",
   "metadata": {},
   "outputs": [
    {
     "name": "stdout",
     "output_type": "stream",
     "text": [
      "有 195 個站點在5/1及5/2都有人進出，車站代碼明細如下：\n",
      "{'4180', '7230', '7040', '1120', '5160', '7310', '4300', '1040', '5050', '1210', '1090', '6130', '3320', '1220', '5060', '6080', '6020', '3431', '3436', '4160', '4100', '3434', '4272', '2150', '4090', '6250', '6240', '4430', '4330', '980', '3432', '1050', '3340', '1100', '7380', '1230', '4390', '3400', '7360', '4080', '5090', '1000', '5100', '1070', '5110', '6180', '2260', '4210', '3140', '4320', '3260', '4120', '6010', '7000', '1020', '7090', '1010', '4140', '2170', '920', '3190', '7190', '4470', '2180', '900', '6210', '7010', '4410', '3300', '4270', '2210', '6110', '5080', '4250', '7333', '1207', '4440', '7060', '4170', '3390', '6100', '7330', '990', '3290', '970', '940', '3270', '7290', '4110', '960', '6200', '2220', '3490', '5240', '4290', '5120', '5130', '1140', '4450', '7210', '6170', '3280', '1150', '7150', '5070', '6070', '1193', '6160', '5220', '3220', '3160', '3350', '2190', '3450', '4050', '3310', '7110', '1202', '7350', '1110', '3420', '3180', '3470', '7140', '2130', '5030', '950', '3230', '4260', '3330', '1060', '3240', '4340', '5190', '6040', '1203', '1250', '3460', '3150', '4400', '4380', '910', '1160', '3370', '4220', '7100', '3480', '4190', '1030', '1190', '2230', '1080', '4360', '2200', '4150', '4460', '930', '5040', '5210', '3360', '7331', '6050', '1170', '3380', '4130', '6000', '3435', '7180', '7130', '5200', '6220', '4310', '3250', '7160', '1180', '3410', '3430', '4350', '5230', '4420', '1240', '2250', '3210', '7250', '4200', '5000', '4070', '5010', '7030', '4060', '4370', '1130', '1192', '7390', '5020'}\n"
     ]
    }
   ],
   "source": [
    "#「交集」：以進出站資料0501與0502做交集，看有哪些站這兩天都有人進出\n",
    "list_1 = set(num_1[\"staCode\"])\n",
    "list_2 = set(num_2[\"staCode\"])\n",
    "print(\"有\",len(list_1.intersection(list_2)),\"個站點在5/1及5/2都有人進出，車站代碼明細如下：\")\n",
    "print(list_1.intersection(list_2))"
   ]
  },
  {
   "cell_type": "code",
   "execution_count": 252,
   "id": "45a42cc5",
   "metadata": {},
   "outputs": [
    {
     "name": "stdout",
     "output_type": "stream",
     "text": [
      "有 239 個站點在5/1及5/2至少一天有人進出，車站代碼明細如下：\n",
      "{'6190', '7230', '1120', '5160', '4300', '1208', '5050', '7334', '7240', '1220', '5060', '6080', '1205', '3434', '4272', '6250', '2110', '1050', '3340', '1100', '7380', '1230', '4390', '7360', '4080', '5090', '1070', '7320', '5110', '6180', '2260', '4210', '4320', '4120', '6010', '6030', '7300', '1020', '7090', '1010', '1206', '920', '3190', '7190', '4470', '7020', '6210', '7010', '5080', '4250', '1207', '4440', '7060', '1204', '970', '940', '7290', '2220', '4290', '1140', '4450', '7210', '6170', '3280', '7220', '7150', '7332', '6230', '5220', '1194', '3160', '3350', '2190', '3450', '4050', '3310', '7140', '950', '3230', '5190', '3240', '4340', '3460', '4400', '910', '1160', '6060', '7100', '3480', '1030', '2230', '1080', '4360', '7331', '1170', '3380', '4130', '6000', '3435', '7130', '5200', '6220', '6090', '7160', '4350', '5230', '4420', '2250', '4200', '5000', '4070', '5010', '3170', '7030', '4060', '7280', '1192', '7390', '3436', '4180', '7040', '7200', '1201', '7310', '1040', '1210', '7362', '1090', '6130', '1191', '3320', '2160', '3433', '6020', '3431', '4160', '4100', '5140', '2150', '4090', '6240', '4430', '4330', '980', '3432', '6140', '3400', '1000', '5100', '3140', '3260', '7000', '7050', '4140', '2170', '6120', '2180', '7070', '900', '4410', '3300', '4270', '2120', '2210', '6110', '7260', '7333', '4170', '3390', '6100', '7330', '990', '3290', '7270', '3270', '4110', '7080', '960', '6200', '3490', '5240', '5120', '5130', '1150', '5070', '2240', '6070', '1193', '6160', '3220', '7170', '7120', '7110', '1202', '7350', '1110', '3420', '3180', '3470', '2130', '5030', '2140', '4260', '3330', '1060', '6040', '1203', '1250', '3150', '4380', '7335', '3370', '4220', '7336', '4190', '1190', '2200', '4150', '4460', '930', '5040', '5210', '3360', '6050', '7361', '7180', '4310', '3250', '1180', '3410', '3430', '1240', '3210', '7250', '4370', '1130', '6150', '5020', '4271'}\n"
     ]
    }
   ],
   "source": [
    "#「聯集」：以進出站資料0501與0502做聯集，看至少一天有人進出的站有哪些\n",
    "list_1 = set(num_1[\"staCode\"])\n",
    "list_2 = set(num_2[\"staCode\"])\n",
    "print(\"有\",len(list_1.union(list_2)),\"個站點在5/1及5/2至少一天有人進出，車站代碼明細如下：\")\n",
    "print(list_1.union(list_2))"
   ]
  },
  {
   "cell_type": "code",
   "execution_count": 253,
   "id": "3dd61585",
   "metadata": {},
   "outputs": [
    {
     "name": "stdout",
     "output_type": "stream",
     "text": [
      "有 46 個站點在5/1沒有人進出，車站代碼明細如下：\n",
      "{'6190', '7320', '7200', '7220', '1001', '7332', '6030', '6230', '7300', '2240', '7361', '1201', '1208', '1206', '7050', '5170', '1194', '7334', '6120', '7070', '7240', '7362', '7020', '7170', '6090', '1191', '2120', '7260', '7120', '2160', '3433', '1205', '2140', '1204', '5999', '7270', '3170', '7335', '6060', '6140', '2110', '7080', '7280', '7336', '6150', '4271'}\n"
     ]
    }
   ],
   "source": [
    "#「差集」：以車站資料與0501資料做差集，找尋0501沒有人進出的站\n",
    "list_1 = set(st[\"stationCode\"])\n",
    "list_2 = set(num_1[\"staCode\"])\n",
    "print(\"有\",len(list_1.difference(list_2)),\"個站點在5/1沒有人進出，車站代碼明細如下：\")\n",
    "print(list_1.difference(list_2))"
   ]
  },
  {
   "cell_type": "code",
   "execution_count": 254,
   "id": "e938dc36",
   "metadata": {},
   "outputs": [
    {
     "name": "stdout",
     "output_type": "stream",
     "text": [
      "有 44 個站點在5/1及5/2只有一天有人進出，車站代碼明細如下：\n",
      "{'6190', '7200', '1201', '1208', '7334', '7240', '7362', '1191', '2160', '3433', '1205', '5140', '2110', '6140', '7320', '6030', '7300', '1206', '7050', '6120', '7070', '7020', '2120', '7260', '1204', '7270', '7080', '7220', '7332', '6230', '2240', '1194', '7170', '7120', '2140', '7335', '6060', '7336', '7361', '6090', '3170', '7280', '6150', '4271'}\n"
     ]
    }
   ],
   "source": [
    "#「對稱差集」：以進出站資料0501與0502做對稱差集，看只有一天有人進出的站有哪些\n",
    "list_1 = set(num_1[\"staCode\"])\n",
    "list_2 = set(num_2[\"staCode\"])\n",
    "print(\"有\",len(list_1^list_2),\"個站點在5/1及5/2只有一天有人進出，車站代碼明細如下：\")\n",
    "print(list_1^list_2)"
   ]
  },
  {
   "cell_type": "code",
   "execution_count": 255,
   "id": "279a7547",
   "metadata": {},
   "outputs": [
    {
     "name": "stdout",
     "output_type": "stream",
     "text": [
      "有 3 個站點今年沒有人進出，車站詳細資料如下：\n",
      "    stationCode stationName       stationAddrTw\n",
      "11         1001       臺北-環島              臺北市中正區\n",
      "162        5170          枋野   屏東縣獅子鄉內獅村內獅巷 88 號\n",
      "169        5999        潮州基地  屏東縣潮州鎮光春里光復路 616 號\n"
     ]
    }
   ],
   "source": [
    "#延伸命題：哪個車站今年到現在都沒人使用？\n",
    "list_1 = set(st[\"stationCode\"])\n",
    "list_2 = set(num[\"staCode\"])\n",
    "print(\"有\",len(list_1.difference(list_2)),\"個站點今年沒有人進出，車站詳細資料如下：\")\n",
    "#print(list_1.difference(list_2))\n",
    "\n",
    "no_use = list(list_1.difference(list_2))\n",
    "filt_all = (st[\"stationCode\"].isin(no_use))\n",
    "no_use_list = st.loc[filt_all,[\"stationCode\",\"stationName\",\"stationAddrTw\"]]\n",
    "print(no_use_list)"
   ]
  },
  {
   "cell_type": "code",
   "execution_count": 258,
   "id": "e213b4ca",
   "metadata": {},
   "outputs": [
    {
     "name": "stdout",
     "output_type": "stream",
     "text": [
      "請輸入第1個日期(MMDD)0501\n",
      "請輸入第2個日期(MMDD)0531\n",
      "請輸入當日最少要有幾人使用30\n",
      "\n",
      "台鐵一共有 242 個站點，其中有 16 個站點從 0501 到 0531 日使用人次從未超過 30 人，車站詳細資料如下：\n",
      "    stationCode stationName             stationAddrTw\n",
      "11         1001       臺北-環島                    臺北市中正區\n",
      "95         3433          龍泉        南投縣集集鎮隘寮村龍泉巷 (無站房)\n",
      "160        5140          內獅          屏東縣枋山鄉加祿村南和 43 號\n",
      "162        5170          枋野         屏東縣獅子鄉內獅村內獅巷 88 號\n",
      "168        5240          康樂  臺東縣臺東市康樂里博物館路 51 巷 131 號\n",
      "169        5999        潮州基地        屏東縣潮州鎮光春里光復路 616 號\n",
      "171        6010          山里        臺東縣卑南鄉嘉豐村山里路 108 號\n",
      "174        6040          瑞和    臺東縣鹿野鄉瑞和村瑞景路三段 1 之 1 號\n",
      "176        6060          海端          臺東縣關山鎮德高里西莊 49 號\n",
      "179        6090          東竹          花蓮縣富里鄉新興村新興 26 號\n",
      "180        6100          東里     花蓮縣富里鄉東里村大莊路 15 之 6 號\n",
      "182        6120          三民          花蓮縣玉里鎮三民里三民 10 號\n",
      "185        6150          大富          花蓮縣光復鄉大富村明德路 1 號\n",
      "193        6230          平和          花蓮縣壽豐鄉平和村平和路 1 號\n",
      "198        7020          景美     花蓮縣秀林鄉景美村加灣 178 之 1 號\n",
      "204        7080          武塔         宜蘭縣南澳鄉武塔村新溪路 18 號\n"
     ]
    }
   ],
   "source": [
    "##延伸命題：讓使用者輸入時間區間，哪些車站在這段期間使用人數不符標準？\n",
    "date_3 = input(\"請輸入第1個日期(MMDD)\")\n",
    "date_4 = input(\"請輸入第2個日期(MMDD)\")\n",
    "num_least = input(\"請輸入當日最少要有幾人使用\")\n",
    "\n",
    "##準備篩選器\n",
    "filt_cho3 = (num[\"date\"].apply(int) >= int(date_3))\n",
    "filt_cho4 = (num[\"date\"].apply(int) <= int(date_4))\n",
    "filt_num = (num[\"total\"] >= int(num_least))\n",
    "filt_cho = filt_cho3 & filt_cho4 & filt_num\n",
    "num_cho = num.loc[filt_cho, [\"date\",\"staCode\",\"total\"]]\n",
    "#print(num_cho)\n",
    "\n",
    "##比較差集，找出符合少人使用條件的站點代碼\n",
    "list_3 = set(st[\"stationCode\"])\n",
    "list_4 = set(num_cho[\"staCode\"])\n",
    "no_use = list(list_3.difference(list_4))\n",
    "print(\"\\n台鐵一共有\",len(list_3),\"個站點，其中有\",len(no_use),\"個站點從\",date_3,\"到\",date_4,\"日使用人次從未超過\",num_least,\"人，車站詳細資料如下：\")\n",
    "##印出少人使用的車站資料\n",
    "filt_all = (st[\"stationCode\"].isin(no_use))\n",
    "no_use_list = st.loc[filt_all,[\"stationCode\",\"stationName\",\"stationAddrTw\"]]\n",
    "print(no_use_list)"
   ]
  },
  {
   "cell_type": "code",
   "execution_count": 257,
   "id": "f13f024f",
   "metadata": {},
   "outputs": [],
   "source": [
    "#以下為程式碼摸索區，請予以忽略\n",
    "#num_1 = pd.DataFrame({\"mon\":num['month'],\"in\":num['gateInComingCnt'],\"out\":num['gateOutGoingCnt']})\n",
    "#print(num_1)\n",
    "#num.groupby('date').count(num[\"staCode\"])\n",
    "#num_1 = num.groupby('date').agg({\"staCode\":[\"count\"]})\n",
    "#num_1.info()\n",
    "#print(num_1.sort_values(by = [\"count\"]))"
   ]
  }
 ],
 "metadata": {
  "kernelspec": {
   "display_name": "Python 3 (ipykernel)",
   "language": "python",
   "name": "python3"
  },
  "language_info": {
   "codemirror_mode": {
    "name": "ipython",
    "version": 3
   },
   "file_extension": ".py",
   "mimetype": "text/x-python",
   "name": "python",
   "nbconvert_exporter": "python",
   "pygments_lexer": "ipython3",
   "version": "3.9.7"
  }
 },
 "nbformat": 4,
 "nbformat_minor": 5
}
