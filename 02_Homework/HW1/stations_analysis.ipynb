{
 "cells": [
  {
   "cell_type": "markdown",
   "id": "2662d1a4",
   "metadata": {},
   "source": [
    "「主題說明」\n",
    "針對台鐵各個站點，取得進出站人數資料，比對哪些站點已經常無人使用，可作為未來淘汰站點的政策參考。\n",
    "\n",
    "「資料取得」\n",
    "透過[政府資料開放平臺](https://data.gov.tw/)取得資料，主要使用以下兩項資料：\n",
    "1. A set 所有台鐵車站列表(有242個站)\n",
    "車站基本資料集(https://data.gov.tw/dataset/33425)\n",
    "2. B set 每天各站的進出人數(2022/1/1只有239筆)\n",
    "每日各站點進出站人數(https://data.gov.tw/dataset/8792)\n",
    "\n",
    "「資料格式」\n",
    "目標為使用.csv格式資料，政府資料開放平臺可直接下載.csv資料\n",
    "已下載並存於相同專案資料夾中(https://github.com/AndersonTsaiTW/PL-Repo/tree/main/02_Homework/HW1)，並命名如下。\n",
    "* num：每日各站點進出站人數\n",
    "* station：車站基本資料集\n",
    "註：若下載xml格式，可透過excel另存為csv格式，或是透過python的ElementTree模組調整格式\n",
    "(參考網址1：https://www.delftstack.com/zh-tw/howto/python/xml-to-csv-python/)\n",
    "(參考網址2：https://stackabuse.com/reading-and-writing-xml-files-in-python/)\n",
    "\n",
    "「讀入資料」\n",
    "透過pandas的read_csv功能讀取，請參考下方程式碼。"
   ]
  },
  {
   "cell_type": "code",
   "execution_count": 27,
   "id": "2f858abc",
   "metadata": {},
   "outputs": [
    {
     "name": "stdout",
     "output_type": "stream",
     "text": [
      "<class 'pandas.core.frame.DataFrame'>\n",
      "<class 'pandas.core.frame.DataFrame'>\n"
     ]
    }
   ],
   "source": [
    "import pandas as pd\n",
    "st = pd.read_csv(\"station.csv\",index_col='stationCode')\n",
    "num = pd.read_csv(\"num.csv\")\n",
    "print(type(st))\n",
    "print(type(num))"
   ]
  },
  {
   "cell_type": "code",
   "execution_count": 5,
   "id": "ea3e78c1",
   "metadata": {},
   "outputs": [
    {
     "data": {
      "text/html": [
       "<div>\n",
       "<style scoped>\n",
       "    .dataframe tbody tr th:only-of-type {\n",
       "        vertical-align: middle;\n",
       "    }\n",
       "\n",
       "    .dataframe tbody tr th {\n",
       "        vertical-align: top;\n",
       "    }\n",
       "\n",
       "    .dataframe thead th {\n",
       "        text-align: right;\n",
       "    }\n",
       "</style>\n",
       "<table border=\"1\" class=\"dataframe\">\n",
       "  <thead>\n",
       "    <tr style=\"text-align: right;\">\n",
       "      <th></th>\n",
       "      <th>stationName</th>\n",
       "      <th>stationEName</th>\n",
       "      <th>name</th>\n",
       "      <th>ename</th>\n",
       "      <th>stationAddrTw</th>\n",
       "      <th>stationAddrEn</th>\n",
       "      <th>stationTel</th>\n",
       "      <th>gps</th>\n",
       "    </tr>\n",
       "    <tr>\n",
       "      <th>stationCode</th>\n",
       "      <th></th>\n",
       "      <th></th>\n",
       "      <th></th>\n",
       "      <th></th>\n",
       "      <th></th>\n",
       "      <th></th>\n",
       "      <th></th>\n",
       "      <th></th>\n",
       "    </tr>\n",
       "  </thead>\n",
       "  <tbody>\n",
       "    <tr>\n",
       "      <th>900</th>\n",
       "      <td>基隆</td>\n",
       "      <td>Keelung</td>\n",
       "      <td>基隆</td>\n",
       "      <td>Keelung</td>\n",
       "      <td>基隆市中山區民治里1鄰中山一路16之 1號</td>\n",
       "      <td>No. 16-1, Zhongshan 1st Rd, Zhongshan Dist., K...</td>\n",
       "      <td>02-24263743</td>\n",
       "      <td>25.13401 121.74013</td>\n",
       "    </tr>\n",
       "    <tr>\n",
       "      <th>910</th>\n",
       "      <td>三坑</td>\n",
       "      <td>Sankeng</td>\n",
       "      <td>三坑</td>\n",
       "      <td>Sankeng</td>\n",
       "      <td>基隆市仁愛區德厚里龍安街 206 號</td>\n",
       "      <td>No. 206, Long’an St., Ren`ai Dist., Keelung City</td>\n",
       "      <td>02-24230289</td>\n",
       "      <td>25.12305 121.74202</td>\n",
       "    </tr>\n",
       "    <tr>\n",
       "      <th>920</th>\n",
       "      <td>八堵</td>\n",
       "      <td>Badu</td>\n",
       "      <td>八堵</td>\n",
       "      <td>Badu</td>\n",
       "      <td>基隆市暖暖區八南里八堵路 142 號</td>\n",
       "      <td>No. 142, Badu Rd., Nuannuan Dist., Keelung City</td>\n",
       "      <td>02-24560841</td>\n",
       "      <td>25.10843 121.72898</td>\n",
       "    </tr>\n",
       "  </tbody>\n",
       "</table>\n",
       "</div>"
      ],
      "text/plain": [
       "            stationName stationEName name    ename          stationAddrTw  \\\n",
       "stationCode                                                                 \n",
       "900                  基隆      Keelung   基隆  Keelung  基隆市中山區民治里1鄰中山一路16之 1號   \n",
       "910                  三坑      Sankeng   三坑  Sankeng     基隆市仁愛區德厚里龍安街 206 號   \n",
       "920                  八堵         Badu   八堵     Badu     基隆市暖暖區八南里八堵路 142 號   \n",
       "\n",
       "                                                 stationAddrEn   stationTel  \\\n",
       "stationCode                                                                   \n",
       "900          No. 16-1, Zhongshan 1st Rd, Zhongshan Dist., K...  02-24263743   \n",
       "910           No. 206, Long’an St., Ren`ai Dist., Keelung City  02-24230289   \n",
       "920            No. 142, Badu Rd., Nuannuan Dist., Keelung City  02-24560841   \n",
       "\n",
       "                            gps  \n",
       "stationCode                      \n",
       "900          25.13401 121.74013  \n",
       "910          25.12305 121.74202  \n",
       "920          25.10843 121.72898  "
      ]
     },
     "execution_count": 5,
     "metadata": {},
     "output_type": "execute_result"
    }
   ],
   "source": [
    "#透過head與tail初步檢視資料結構\n",
    "st.head(3)"
   ]
  },
  {
   "cell_type": "code",
   "execution_count": 19,
   "id": "a718dbdf",
   "metadata": {},
   "outputs": [
    {
     "data": {
      "text/html": [
       "<div>\n",
       "<style scoped>\n",
       "    .dataframe tbody tr th:only-of-type {\n",
       "        vertical-align: middle;\n",
       "    }\n",
       "\n",
       "    .dataframe tbody tr th {\n",
       "        vertical-align: top;\n",
       "    }\n",
       "\n",
       "    .dataframe thead th {\n",
       "        text-align: right;\n",
       "    }\n",
       "</style>\n",
       "<table border=\"1\" class=\"dataframe\">\n",
       "  <thead>\n",
       "    <tr style=\"text-align: right;\">\n",
       "      <th></th>\n",
       "      <th></th>\n",
       "      <th>gateInComingCnt</th>\n",
       "      <th>gateOutGoingCnt</th>\n",
       "    </tr>\n",
       "    <tr>\n",
       "      <th>trnOpDate</th>\n",
       "      <th>staCode</th>\n",
       "      <th></th>\n",
       "      <th></th>\n",
       "    </tr>\n",
       "  </thead>\n",
       "  <tbody>\n",
       "    <tr>\n",
       "      <th rowspan=\"3\" valign=\"top\">20220801</th>\n",
       "      <th>7362</th>\n",
       "      <td>96</td>\n",
       "      <td>121</td>\n",
       "    </tr>\n",
       "    <tr>\n",
       "      <th>7380</th>\n",
       "      <td>606</td>\n",
       "      <td>593</td>\n",
       "    </tr>\n",
       "    <tr>\n",
       "      <th>7390</th>\n",
       "      <td>413</td>\n",
       "      <td>442</td>\n",
       "    </tr>\n",
       "  </tbody>\n",
       "</table>\n",
       "</div>"
      ],
      "text/plain": [
       "                   gateInComingCnt  gateOutGoingCnt\n",
       "trnOpDate staCode                                  \n",
       "20220801  7362                  96              121\n",
       "          7380                 606              593\n",
       "          7390                 413              442"
      ]
     },
     "execution_count": 19,
     "metadata": {},
     "output_type": "execute_result"
    }
   ],
   "source": [
    "#透過head與tail初步檢視資料結構\n",
    "num.tail(3)"
   ]
  },
  {
   "cell_type": "code",
   "execution_count": 29,
   "id": "4add7c95",
   "metadata": {},
   "outputs": [
    {
     "name": "stdout",
     "output_type": "stream",
     "text": [
      "0         900\n",
      "1         910\n",
      "2         920\n",
      "3         930\n",
      "4         940\n",
      "         ... \n",
      "50563    7360\n",
      "50564    7361\n",
      "50565    7362\n",
      "50566    7380\n",
      "50567    7390\n",
      "Name: staCode, Length: 50568, dtype: int64\n"
     ]
    }
   ],
   "source": [
    "a = num[\"staCode\"]\n",
    "print(a)"
   ]
  }
 ],
 "metadata": {
  "kernelspec": {
   "display_name": "Python 3 (ipykernel)",
   "language": "python",
   "name": "python3"
  },
  "language_info": {
   "codemirror_mode": {
    "name": "ipython",
    "version": 3
   },
   "file_extension": ".py",
   "mimetype": "text/x-python",
   "name": "python",
   "nbconvert_exporter": "python",
   "pygments_lexer": "ipython3",
   "version": "3.9.7"
  }
 },
 "nbformat": 4,
 "nbformat_minor": 5
}
